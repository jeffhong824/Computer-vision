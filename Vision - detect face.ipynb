{
 "cells": [
  {
   "cell_type": "markdown",
   "metadata": {},
   "source": [
    "# python 環境 3.6"
   ]
  },
  {
   "cell_type": "code",
   "execution_count": 10,
   "metadata": {},
   "outputs": [],
   "source": [
    "# 如果使用jupyter lab 記得使用以下指令 切換環境\n",
    "\n",
    "# pip install ipykernel\n",
    "# python -m ipykernel install --name vision --display-name \"vision\""
   ]
  },
  {
   "cell_type": "code",
   "execution_count": 11,
   "metadata": {},
   "outputs": [],
   "source": [
    "# pip install dlib==19.6.1\n",
    "# pip install opencv-python\n",
    "# pip install imutils"
   ]
  },
  {
   "cell_type": "code",
   "execution_count": 3,
   "metadata": {},
   "outputs": [],
   "source": [
    "import dlib\n",
    "import cv2\n",
    "import imutils"
   ]
  },
  {
   "cell_type": "code",
   "execution_count": 4,
   "metadata": {},
   "outputs": [],
   "source": [
    "path = 'C:/Users/student/Desktop/Vision'"
   ]
  },
  {
   "cell_type": "markdown",
   "metadata": {},
   "source": [
    "## 照片 人臉偵測"
   ]
  },
  {
   "cell_type": "markdown",
   "metadata": {},
   "source": [
    "### 人臉偵測"
   ]
  },
  {
   "cell_type": "code",
   "execution_count": 5,
   "metadata": {},
   "outputs": [],
   "source": [
    "img = cv2.imread(path+'/detect_face.jpg') #讀取照片\n",
    "img = imutils.resize(img, width=640) # 縮小圖片 另外一種 img = imutils.resize(img,(100,100)) 長寬都改\n",
    "\n",
    "detector = dlib.get_frontal_face_detector() #dlib內建的人臉偵測副函示\n",
    "\n",
    "face_rects = detector(img, 0)\n",
    "\n",
    "# 取出所有偵測的結果\n",
    "for i, d in enumerate(face_rects): #有幾個人臉\n",
    "    x1 = d.left()\n",
    "    y1 = d.top()\n",
    "    x2 = d.right()\n",
    "    y2 = d.bottom()\n",
    "\n",
    "  # 以方框標示偵測的人臉\n",
    "    cv2.rectangle(img, (x1, y1), (x2, y2), (0, 255, 0), 4, cv2.LINE_AA) # 形狀 rectangle 4線寬  cv2.LINE_AA線種類\n",
    "\n",
    "# 顯示結果\n",
    "cv2.imshow(\"Face Detection\", img) #名稱 & 你要放的圖片or影像\n",
    "\n",
    "cv2.waitKey(0) #等到秒數\n",
    "cv2.destroyAllWindows()"
   ]
  },
  {
   "cell_type": "markdown",
   "metadata": {},
   "source": [
    "### 人臉偵測 輸出分數"
   ]
  },
  {
   "cell_type": "code",
   "execution_count": 6,
   "metadata": {},
   "outputs": [],
   "source": [
    "# 偵測人臉，輸出分數\n",
    "\n",
    "img = cv2.imread(path+'/detect_face.jpg') #讀取照片\n",
    "img = imutils.resize(img, width=640) # 縮小圖片 另外一種 img = imutils.resize(img,(100,100)) 長寬都改\n",
    "face_rects, scores, idx = detector.run(img, 0, -1) #含分數 第一個是幾個人 第二個是像人臉的分數 第三個是人臉方向\n",
    "\n",
    "for i, d in enumerate(face_rects):\n",
    "    x1 = d.left()\n",
    "    y1 = d.top()\n",
    "    x2 = d.right()\n",
    "    y2 = d.bottom()\n",
    "    text = \"%2.2f(%d)\" % (scores[i], idx[i])\n",
    "\n",
    "    cv2.rectangle(img, (x1, y1), (x2, y2), (0, 255, 0), 4, cv2.LINE_AA)\n",
    "\n",
    "  # 標示分數\n",
    "    cv2.putText(img, text, (x1, y1), cv2.FONT_HERSHEY_DUPLEX,0.7, (255, 255, 255), 1, cv2.LINE_AA) #放文字\n",
    "    \n",
    "\n",
    "cv2.imshow(\"Face Detection\", img)\n",
    "\n",
    "cv2.waitKey(0)\n",
    "cv2.destroyAllWindows()"
   ]
  },
  {
   "cell_type": "markdown",
   "metadata": {},
   "source": [
    "### 人臉 眼睛 鼻子 ... ... 偵測 "
   ]
  },
  {
   "cell_type": "code",
   "execution_count": 7,
   "metadata": {},
   "outputs": [],
   "source": [
    "#照片抓出 眼睛 鼻子 臉\n",
    "\n",
    "import numpy as np\n",
    "import cv2\n",
    " \n",
    "#下載裡面 可以找到 \n",
    "# 臉\n",
    "face_cascade = cv2.CascadeClassifier(path+'/opencv-master/data/haarcascades/haarcascade_frontalface_default.xml')\n",
    "face_cascade.load(path+'/opencv-master/data/haarcascades/haarcascade_frontalface_default.xml')\n",
    "# 眼睛\n",
    "eye_cascade = cv2.CascadeClassifier(path+'/opencv-master/data/haarcascades/haarcascade_eye.xml')\n",
    "eye_cascade.load(path+'/opencv-master/data/haarcascades/haarcascade_eye.xml')\n",
    "#嘴巴\n",
    "mouth_cascade = cv2.CascadeClassifier(path+'/opencv-master/data/haarcascades/haarcascade_mcs_mouth.xml')\n",
    "mouth_cascade.load(path+'/opencv-master/data/haarcascades/haarcascade_mcs_mouth.xml')\n",
    "#鼻子\n",
    "nose_cascade = cv2.CascadeClassifier(path+'/opencv-master/data/haarcascades/haarcascade_mcs_nose.xml')\n",
    "nose_cascade.load(path+'/opencv-master/data/haarcascades/haarcascade_mcs_nose.xml')\n",
    "#耳朵\n",
    "leftear_cascade = cv2.CascadeClassifier(path+'/opencv-master/data/haarcascades/haarcascade_mcs_leftear.xml')\n",
    "leftear_cascade.load(path+'/opencv-master/data/haarcascades/haarcascade_mcs_leftear.xml')\n",
    "rightear_cascade = cv2.CascadeClassifier(path+'/opencv-master/data/haarcascades/haarcascade_mcs_rightear.xml')\n",
    "rightear_cascade.load(path+'/opencv-master/data/haarcascades/haarcascade_mcs_rightear.xml')\n",
    " \n",
    "#face_cascade = cv2.CascadeClassifier(\"../../opencv-2.4.9/data/haarcascades/haarcascade_frontalface_default.xml\")  \n",
    "#eye_cascade = cv2.CascadeClassifier('../../opencv-2.4.9/data/haarcascades/haarcascade_eye.xml')  \n",
    " \n",
    "img = cv2.imread(path+'/detect_face.jpg')\n",
    "gray = cv2.cvtColor(img, cv2.COLOR_BGR2GRAY)\n",
    " \n",
    "faces = face_cascade.detectMultiScale(gray, 1.2, 3)\n",
    "\n",
    "for (x, y, w, h) in faces:\n",
    "    img = cv2.rectangle(img, (x,y),(x+w, y+h), (255, 0, 0), 2) #(255, 0, 0)這是三原色\n",
    "    roi_gray = gray[y:y+h, x:x+w]\n",
    "    roi_color = img[y:y+h, x:x+w]\n",
    "     #眼睛\n",
    "    eyes = eye_cascade.detectMultiScale(roi_gray, 1.2, 3)\n",
    "    for (ex,ey,ew,eh) in eyes:\n",
    "        cv2.rectangle(roi_color, (ex, ey),(ex+ew, ey+eh), (0, 255, 0), 2)\n",
    "     #嘴巴\n",
    "    mouth = mouth_cascade.detectMultiScale(roi_gray, 1.5,5)\n",
    "    for (mx, my, mw, mh) in mouth:\n",
    "        cv2.rectangle(roi_color, (mx, my), (mx+mw, my+mh), (0, 0, 255), 2)\n",
    "     #鼻子\n",
    "    nose = nose_cascade.detectMultiScale(roi_gray, 1.2, 5)\n",
    "    for (nx, ny, nw, nh) in nose:\n",
    "        cv2.rectangle(roi_color, (nx, ny), (nx+nw, ny+nh), (255, 0, 255), 2)\n",
    " \n",
    "     #耳朵\n",
    "    leftear = leftear_cascade.detectMultiScale(roi_gray,1.01, 2)\n",
    "    for (lx, ly, lw, lh) in leftear:\n",
    "        cv2.rectangle(roi_color, (lx, ly), (lx+lw, ly+lh), (0, 0, 0), 2)\n",
    "        \n",
    "    rightear = rightear_cascade.detectMultiScale(roi_gray, 1.01, 2)\n",
    "    for (rx, ry, rw, rh) in rightear:\n",
    "        cv2.rectangle(roi_color, (rx, ry), (rx+rw, ry+rh), (0, 0, 0), 2)\n",
    "cv2.imshow('img', img)\n",
    "cv2.waitKey(0)\n",
    "cv2.destroyAllWindows()"
   ]
  },
  {
   "cell_type": "markdown",
   "metadata": {},
   "source": [
    "## 影片 人臉偵測\n",
    "\n",
    "#### 按q離開"
   ]
  },
  {
   "cell_type": "code",
   "execution_count": 8,
   "metadata": {},
   "outputs": [],
   "source": [
    "# 開啟影片檔案\n",
    "cap = cv2.VideoCapture(path+'/face.mp4')\n",
    "\n",
    "# 取得畫面尺寸\n",
    "width = int(cap.get(cv2.CAP_PROP_FRAME_WIDTH))\n",
    "height = int(cap.get(cv2.CAP_PROP_FRAME_HEIGHT))\n",
    "\n",
    "# 使用 XVID 編碼\n",
    "fourcc = cv2.VideoWriter_fourcc(*'XVID')\n",
    "\n",
    "# 建立 VideoWriter 物件，輸出影片至 output.avi，FPS 值為 20.0\n",
    "out = cv2.VideoWriter('output.avi', fourcc, 20.0, (width, height))\n",
    "\n",
    "# Dlib 的人臉偵測器\n",
    "detector = dlib.get_frontal_face_detector()\n",
    "\n",
    "# 以迴圈從影片檔案讀取影格，並顯示出來\n",
    "while(cap.isOpened()):\n",
    "    ret, frame = cap.read()\n",
    "\n",
    "    # 偵測人臉\n",
    "    face_rects, scores, idx = detector.run(frame, 0)\n",
    "\n",
    "    # 取出所有偵測的結果\n",
    "    for i, d in enumerate(face_rects):\n",
    "        x1 = d.left()\n",
    "        y1 = d.top()\n",
    "        x2 = d.right()\n",
    "        y2 = d.bottom()\n",
    "        text = \"%2.2f(%d)\" % (scores[i], idx[i])\n",
    "\n",
    "        # 以方框標示偵測的人臉\n",
    "        cv2.rectangle(frame, (x1, y1), (x2, y2), (255, 255, 255), 4, cv2.LINE_AA)\n",
    "\n",
    "        # 標示分數\n",
    "        cv2.putText(frame, text, (x1, y1), cv2.FONT_HERSHEY_DUPLEX,0.7, (255, 255, 255), 1, cv2.LINE_AA)\n",
    "\n",
    "    # 寫入影格\n",
    "    out.write(frame)\n",
    "\n",
    "    # 顯示結果\n",
    "    cv2.imshow(\"Face Detection\", frame)\n",
    "\n",
    "    if cv2.waitKey(1) & 0xFF == ord('q'):\n",
    "        break\n",
    "\n",
    "cap.release()\n",
    "out.release()\n",
    "cv2.destroyAllWindows()"
   ]
  },
  {
   "cell_type": "markdown",
   "metadata": {},
   "source": [
    "## 即時影像人臉偵測"
   ]
  },
  {
   "cell_type": "code",
   "execution_count": 9,
   "metadata": {},
   "outputs": [],
   "source": [
    "# 開啟影片檔案\n",
    "cap = cv2.VideoCapture(0) #數字0筆電的內鏡頭  1是外接鏡頭\n",
    "\n",
    "# Dlib 的人臉偵測器\n",
    "detector = dlib.get_frontal_face_detector()\n",
    "\n",
    "\n",
    "# 以迴圈從影片檔案讀取影格，並顯示出來\n",
    "while(cap.isOpened()):\n",
    "    ret, frame = cap.read()\n",
    "\n",
    "    # 偵測人臉\n",
    "    face_rects, scores, idx = detector.run(frame, 0)\n",
    "\n",
    "    # 取出所有偵測的結果\n",
    "    for i, d in enumerate(face_rects):\n",
    "        x1 = d.left()\n",
    "        y1 = d.top()\n",
    "        x2 = d.right()\n",
    "        y2 = d.bottom()\n",
    "        text = \"%2.2f(%d)\" % (scores[i], idx[i])\n",
    "\n",
    "        # 以方框標示偵測的人臉\n",
    "        cv2.rectangle(frame, (x1, y1), (x2, y2), (0, 255, 0), 4, cv2.LINE_AA) \n",
    "\n",
    "        # 標示分數 寫字\n",
    "        cv2.putText(frame, text, (x1, y1), cv2.FONT_HERSHEY_DUPLEX,0.7, (255, 255, 255), 1, cv2.LINE_AA)\n",
    "\n",
    "        # 顯示結果\n",
    "        cv2.imshow(\"Face Detection\", frame)\n",
    "\n",
    "    if cv2.waitKey(1) & 0xFF == ord('q'):\n",
    "        break\n",
    "\n",
    "cap.release()\n",
    "cv2.destroyAllWindows()"
   ]
  },
  {
   "cell_type": "code",
   "execution_count": 6,
   "metadata": {},
   "outputs": [],
   "source": []
  },
  {
   "cell_type": "code",
   "execution_count": null,
   "metadata": {},
   "outputs": [],
   "source": []
  }
 ],
 "metadata": {
  "kernelspec": {
   "display_name": "vision",
   "language": "python",
   "name": "vision"
  },
  "language_info": {
   "codemirror_mode": {
    "name": "ipython",
    "version": 3
   },
   "file_extension": ".py",
   "mimetype": "text/x-python",
   "name": "python",
   "nbconvert_exporter": "python",
   "pygments_lexer": "ipython3",
   "version": "3.6.10"
  }
 },
 "nbformat": 4,
 "nbformat_minor": 2
}
