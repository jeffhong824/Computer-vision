{
 "cells": [
  {
   "cell_type": "markdown",
   "metadata": {},
   "source": [
    "https://www.youtube.com/watch?v=x4eeX7WJIuA"
   ]
  },
  {
   "cell_type": "code",
   "execution_count": null,
   "metadata": {},
   "outputs": [],
   "source": [
    "import cv2\n",
    "import mediapipe as mp\n",
    "import time\n",
    "\n",
    "cap = cv2.VideoCapture(0)\n",
    "mpHands = mp.solutions.hands\n",
    "hands = mpHands.Hands(min_detection_confidence=0.5, min_tracking_confidence=0.5)\n",
    "mpDraw = mp.solutions.drawing_utils\n",
    "handLmsStyle = mpDraw.DrawingSpec(color=(0, 0, 255), thickness=3)\n",
    "handConStyle = mpDraw.DrawingSpec(color=(0, 255, 0), thickness=5)\n",
    "pTime = 0\n",
    "cTime = 0\n",
    "\n",
    "while True:\n",
    "    ret, img = cap.read()\n",
    "    if ret:\n",
    "        imgRGB = cv2.cvtColor(img, cv2.COLOR_BGR2RGB)\n",
    "        result = hands.process(imgRGB)\n",
    "\n",
    "        # print(result.multi_hand_landmarks)\n",
    "        imgHeight = img.shape[0]\n",
    "        imgWidth = img.shape[1]\n",
    "\n",
    "        if result.multi_hand_landmarks:\n",
    "            for handLms in result.multi_hand_landmarks:\n",
    "                mpDraw.draw_landmarks(img, handLms, mpHands.HAND_CONNECTIONS, handLmsStyle, handConStyle)\n",
    "                for i, lm in enumerate(handLms.landmark):\n",
    "                    xPos = int(lm.x * imgWidth)\n",
    "                    yPos = int(lm.y * imgHeight)\n",
    "\n",
    "                    # cv2.putText(img, str(i), (xPos-25, yPos+5), cv2.FONT_HERSHEY_SIMPLEX, 0.4, (0, 0, 255), 2)\n",
    "\n",
    "                    # if i == 4:\n",
    "                    #     cv2.circle(img, (xPos, yPos), 20, (166, 56, 56), cv2.FILLED)\n",
    "                    # print(i, xPos, yPos)\n",
    "\n",
    "        cTime = time.time()\n",
    "        fps = 1/(cTime-pTime)\n",
    "        pTime = cTime\n",
    "        cv2.putText(img, f\"FPS : {int(fps)}\", (30, 50), cv2.FONT_HERSHEY_SIMPLEX, 1, (255, 0, 0), 3)\n",
    "\n",
    "        cv2.imshow('img', img)\n",
    "\n",
    "    if cv2.waitKey(1) == ord('q'):\n",
    "        break"
   ]
  },
  {
   "cell_type": "code",
   "execution_count": null,
   "metadata": {},
   "outputs": [],
   "source": []
  }
 ],
 "metadata": {
  "kernelspec": {
   "display_name": "NLP",
   "language": "python",
   "name": "nlp"
  },
  "language_info": {
   "codemirror_mode": {
    "name": "ipython",
    "version": 3
   },
   "file_extension": ".py",
   "mimetype": "text/x-python",
   "name": "python",
   "nbconvert_exporter": "python",
   "pygments_lexer": "ipython3",
   "version": "3.6.12"
  }
 },
 "nbformat": 4,
 "nbformat_minor": 4
}
