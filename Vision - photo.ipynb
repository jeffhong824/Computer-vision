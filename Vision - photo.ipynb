{
 "cells": [
  {
   "cell_type": "code",
   "execution_count": 1,
   "metadata": {},
   "outputs": [],
   "source": [
    "import cv2"
   ]
  },
  {
   "cell_type": "code",
   "execution_count": 2,
   "metadata": {},
   "outputs": [],
   "source": [
    "path = 'C:/Users/student/Desktop/Vision'"
   ]
  },
  {
   "cell_type": "markdown",
   "metadata": {},
   "source": [
    "## 圖像疊加 因為照片大小要一樣 所以記得resize"
   ]
  },
  {
   "cell_type": "code",
   "execution_count": 3,
   "metadata": {},
   "outputs": [],
   "source": [
    "img1=cv2.imread(path+\"/eye.jpg\")\n",
    "img1 = cv2.resize(img1, (100,100), interpolation=cv2.INTER_AREA) \n",
    "img2=cv2.imread(path+\"/eye2.jpg\")\n",
    "img2 = cv2.resize(img2, (100,100), interpolation=cv2.INTER_AREA)\n",
    "\n",
    "res = cv2.addWeighted(img1,0.7,img2,0.3,0) #可以調疊加的權重\n",
    "cv2.imshow('img_add',res)\n",
    "cv2.waitKey()\n",
    "cv2.destroyAllWindows()"
   ]
  },
  {
   "cell_type": "markdown",
   "metadata": {},
   "source": [
    "## 圖像切換"
   ]
  },
  {
   "cell_type": "code",
   "execution_count": 4,
   "metadata": {},
   "outputs": [],
   "source": [
    "#圖像切換\n",
    "\n",
    "import cv2\n",
    "import numpy as np\n",
    " \n",
    "def nothing(x):\n",
    "    pass\n",
    " \n",
    "img1=cv2.imread(path+\"/eye.jpg\")\n",
    "img1 = cv2.resize(img1, (640,480), interpolation=cv2.INTER_AREA) \n",
    "img2=cv2.imread(path+\"/eye2.jpg\")\n",
    "img2 = cv2.resize(img2, (640,480), interpolation=cv2.INTER_AREA)\n",
    "# 创建一个黑色背景的窗口\n",
    "img = np.zeros((500,500,3), np.uint8)\n",
    "cv2.namedWindow('image')\n",
    " \n",
    "cv2.createTrackbar('a','image',0,100,nothing)\n",
    " \n",
    " \n",
    "while(1):\n",
    "    cv2.imshow('image',img)\n",
    "    k = cv2.waitKey(1) & 0xFF\n",
    "\n",
    "    r = cv2.getTrackbarPos('a','image')\n",
    "    r=float(r)/100.0\n",
    " \n",
    "    img=cv2.addWeighted(img1,r,img2,1.0-r,0)\n",
    "    if cv2.waitKey(1) & 0xFF == ord('q'):\n",
    "        break\n",
    "\n",
    "cv2.destroyAllWindows() "
   ]
  },
  {
   "cell_type": "markdown",
   "metadata": {},
   "source": [
    "## 圖片 放 人臉"
   ]
  },
  {
   "cell_type": "code",
   "execution_count": 5,
   "metadata": {},
   "outputs": [],
   "source": [
    "#圖像 融合2\n",
    "import cv2\n",
    "\n",
    "# 脸\n",
    "face_cascade = cv2.CascadeClassifier(path+'/opencv-master/data/haarcascades/haarcascade_frontalface_default.xml')\n",
    "face_cascade.load(path+'/opencv-master/data/haarcascades/haarcascade_frontalface_default.xml')\n",
    "# 眼睛\n",
    "eye_cascade = cv2.CascadeClassifier(path+'/opencv-master/data/haarcascades/haarcascade_eye.xml')\n",
    "eye_cascade.load(path+'/opencv-master/data/haarcascades/haarcascade_eye.xml')\n",
    "\n",
    "\n",
    "img = cv2.imread(path+'/face.jpg')#照片原始~~~~~~~~~~~~~~\n",
    "img1 = cv2.imread(path+'/face.jpg')#照片原始~~~~~~~~~~~~~~\n",
    "gray = cv2.cvtColor(img, cv2.COLOR_BGR2GRAY)\n",
    "faces = face_cascade.detectMultiScale(gray, 1.2, 3)\n",
    "\n",
    "list_w=[]\n",
    "list_h=[]\n",
    "\n",
    "point_x=[]\n",
    "point_y=[]\n",
    "\n",
    "for (x, y, w, h) in faces:\n",
    "    img = cv2.rectangle(img, (x,y),(x+w, y+h), (255, 0, 0), 2)\n",
    "    roi_gray = gray[y:y+h, x:x+w]\n",
    "    roi_color = img[y:y+h, x:x+w]\n",
    "     #眼睛\n",
    "    eyes = eye_cascade.detectMultiScale(roi_gray, 1.2, 3)\n",
    "    for (ex,ey,ew,eh) in eyes:\n",
    "        cv2.rectangle(roi_color, (ex, ey),(ex+ew, ey+eh), (0, 255, 0), 2)\n",
    "        list_w.append(ew)\n",
    "        list_h.append(eh)\n",
    "        point_x.append(ex)\n",
    "        point_y.append(ey)\n",
    "\n",
    "cv2.imshow('img1', img)\n",
    "\n",
    "#融合~~~~~~~~~~~~~~~~~~~~~~~~~~~~~~`\n",
    "\n",
    "img2 = cv2.imread(path+'/eye1.jpg')\n",
    "\n",
    "xx=int(int(list_w[0])/2)\n",
    "yy=int(int(list_h[0])/2)\n",
    "zz=int(int(list_h[0])/2)\n",
    "\n",
    "img2 = cv2.resize(img2,(zz,zz))\n",
    "# I want to put logo on top-left corner, So I create a ROI\n",
    "rows,cols,channels = img2.shape\n",
    "roi = img1[ y+point_y[0]+yy : y+rows+point_y[0]+yy , x+point_x[0]+xx : x+cols+point_x[0]+xx ]\n",
    "roi2 = img1[ y+point_y[1]+yy : y+rows+point_y[1]+yy, x+point_x[1]+xx : x+cols+point_x[1]+xx ]\n",
    "\n",
    "# Now create a mask of logo and create its inverse mask also\n",
    "img2gray = cv2.cvtColor(img2,cv2.COLOR_BGR2GRAY)\n",
    "ret, mask = cv2.threshold(img2gray, 200, 255, cv2.THRESH_BINARY)\n",
    "mask_inv = cv2.bitwise_not(mask)\n",
    "\n",
    "# Now black-out the area of logo in ROI\n",
    "img1_bg = cv2.bitwise_and(roi,roi,mask = mask)\n",
    "img1_bg2 = cv2.bitwise_and(roi2,roi2,mask = mask)\n",
    "# Take only region of logo from logo image.\n",
    "img2_fg = cv2.bitwise_and(img2,img2,mask = mask_inv)\n",
    "img2_fg2 = cv2.bitwise_and(img2,img2,mask = mask_inv)\n",
    "# Put logo in ROI and modify the main image\n",
    "dst = cv2.add(img1_bg,img2_fg)\n",
    "dst2 = cv2.add(img1_bg2,img2_fg2)\n",
    "img1[y+point_y[0]+yy:y+rows+point_y[0]+yy, x+point_x[0]+xx:x+cols+point_x[0]+xx] = dst\n",
    "img1[y+point_y[1]+yy:y+rows+point_y[1]+yy, x+point_x[1]+xx:x+cols+point_x[1]+xx] = dst2\n",
    "\n",
    "cv2.imshow('img2',img1)\n",
    "\n",
    "        \n",
    "\n",
    "cv2.waitKey(0)\n",
    "cv2.destroyAllWindows()"
   ]
  },
  {
   "cell_type": "markdown",
   "metadata": {},
   "source": [
    "## 切割圖片 換位置"
   ]
  },
  {
   "cell_type": "code",
   "execution_count": 6,
   "metadata": {},
   "outputs": [],
   "source": [
    "import cv2\n",
    "\n",
    "zz=318\n",
    "img = cv2.imread(path+'/change.jpg')\n",
    "img_white = cv2.imread(path+'/white.jpg')\n",
    "img_white = cv2.resize(img_white,(zz,zz))\n",
    "\n",
    "rows,cols,channels = img.shape\n",
    "rows,cols\n",
    "\n",
    "#y1:y2,x1:x2 106\n",
    "img1=img[0:106,0:106] \n",
    "img2=img[0:106,106:212]\n",
    "img3=img[0:106,212:318]\n",
    "\n",
    "img4=img[106:212,0:106] \n",
    "img5=img[106:212,106:212]\n",
    "img6=img[106:212,212:318]\n",
    "\n",
    "img7=img[212:318,0:106] \n",
    "img8=img[212:318,106:212]\n",
    "img9=img[212:318,212:318]\n",
    "\n",
    "\n",
    "img_white[0:106,0:106]    =  img6\n",
    "img_white[0:106,106:212]  =  img3\n",
    "img_white[0:106,212:318]  =  img9\n",
    "\n",
    "img_white[106:212,0:106]  =  img2\n",
    "img_white[106:212,106:212]=  img4\n",
    "img_white[106:212,212:318]=  img1\n",
    "\n",
    "img_white[212:318,0:106]  =  img5\n",
    "img_white[212:318,106:212]=  img7\n",
    "img_white[212:318,212:318]=  img8\n",
    "\n",
    "\n",
    "cv2.imshow(\"old\", img)\n",
    "cv2.imshow(\"new\", img_white)\n",
    "\n",
    "\n",
    "cv2.waitKey(0)\n",
    "cv2.destroyAllWindows()"
   ]
  },
  {
   "cell_type": "code",
   "execution_count": null,
   "metadata": {},
   "outputs": [],
   "source": []
  }
 ],
 "metadata": {
  "kernelspec": {
   "display_name": "vision",
   "language": "python",
   "name": "vision"
  },
  "language_info": {
   "codemirror_mode": {
    "name": "ipython",
    "version": 3
   },
   "file_extension": ".py",
   "mimetype": "text/x-python",
   "name": "python",
   "nbconvert_exporter": "python",
   "pygments_lexer": "ipython3",
   "version": "3.6.10"
  }
 },
 "nbformat": 4,
 "nbformat_minor": 2
}
