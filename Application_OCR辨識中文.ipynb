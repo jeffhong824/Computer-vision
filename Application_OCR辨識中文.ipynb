{
 "cells": [
  {
   "cell_type": "code",
   "execution_count": 10,
   "metadata": {},
   "outputs": [
    {
     "name": "stdout",
     "output_type": "stream",
     "text": [
      "貧血 簡介\n",
      "李 湛 歧\n",
      "\n",
      "當 周遭 的 親朋 好 友 覺 得 頭 量 目眩 、 臉 色 蒼 白 的 時 候 , 我 們 的 直覺 反應 常常 是 「 有 沒 有 貧血 啊 ?」。 貸 血 對 一 般 民眾 而 言 是 一 個 耳熟 能 詳 的\n",
      "疾病 , 但 是 對 於 引起 貧血 的 原 因 、 定 義 以 及 如 何 利用 檢驗 數 據 協助 診斷 等 可 能 就 不 太 清楚 , 本 文 即 項 鹿 利 用 簡單 的 說 明 讓 大 家 對 這 常見 的\n",
      "疾病 有 更 深入 的 認識 。 一 般 飢 血 的 定義 是 指 血 液 中 的 紅血球 (Red blood cell RBC)、 血 色素 (Hemoglobin, Hb) 或 平均 血球 容積 (mean\n",
      "corpuscular volume, MCV) 降 低 至 參考 值 以 下 。 比 較 常 見 的 是 以 血色 素 作為 標準 , 成 年 男性 低 於 13.0 g/dL、 女 性 做 於 12.0 g/dL 稱 之 為 瘓 血 。\n",
      "貧血 又 可 以 平均 血球 容積 進 行 基本 分 類 , 若 小 於 80 fi 稱 之 為 小 球 性 饋 血 、 大 於 100 fl 為 大 球 性 飢 血 , 介 於 80-100 f 為 正 球 性 饋 血 。 最 常見\n",
      "的 貧血 類 別 為 小 球 性 帝 血 , 主 要 是 鐵 的 供給 與 需求 不 均衡 導致 原 血紅 素 (製造 血色 素 的 成 份 之 一 ) 合 成 的 障礙 , 進 而 產生 小 琮 性 低 色素 性 紅 血\n",
      "球 , 患 者 以 女 性 居多 。 小 球 性 飢 血 常見 的 成 因為 缺 鐵 性 饋 血 與 地 中 海 型 瘓 血 (或 稱 海洋 性 饋 血 ) , 懷 曆 時 一 般 會 先 檢測 血清 鐵 蛋 白 (serum\n",
      "ferritin) 診 斷 是 否 為 缺 鐵 性 帝 血 , 若 排除 , 再 進 行 血色 素 電 泳 分 析 (Hb electrophoresis) 或 基因 檢測 , 確認 是 否 為 地 中 海 型 瘓 血 。 大 球 性 帝 血\n",
      "可 分 為 巨 芽 球 性 饋 性 饋 血 與 非 巨 芽 球 性 瘓 個 。 巨 芽 球 性 饋 血 主 要 是 嶼 髓 內 紅血球 前 驅 細 胞 內 核 醣 核酸 (DNA) 合 成 障礙 導致 紅血球 細胞 核 成 熟\n",
      "不 良 所 致 , 引起 的 原 因 主 要 為 缺乏 葉酸 及 維他命 B12 所 致 , 常 見於 惡性 帝 血 及 肝病 患者 。 非 巨 芽 球 性 帝 血 主 要 為 急性 出 血 或 急性 溶血 所 引\n",
      "起 , 因 人 身體 會 有 代償 作用 以 調控 供需 , 導 致 未 梢 血液 中 會 出 現 大 量 的 網 狀 紅血球 (不 成 熟 紅血球 ) , 致 使 平均 紅血球 容積 增加 。 正 球 性 飢\n",
      "血 是 指 紅血球 大 小 及 形態 都 在 正常 條 件 下 之 貧血 , 常見 發 生 的 原 因 有 遺傳 性 紅血球 細胞 膜 病 統 、 釀 素 缺 乏 、 血 色素 異常 等 。 另 外 在 某 些 疾\n",
      "病 也 會 引起 , 例如 內 分 小 疾病 、 腎 臟 疾 病 、 彤 髓 造血 疾病 等 。 一 般 建 議 檢測 網 狀 紅血球 生 成 指數 (正常 參考 值 為 0.5-1.596) 來 推 斷 骨 髓 造血 情\n",
      "形 。 若 高 於 >1.596 , 有 可 能 是 溶血 性 貧血 或 是 血液 流失 , 因 代償 作用 須 快 速 補充 而 造成 尚未 成 熟 之 網 狀 紅血球 流 至 周邊 血液 網 狀 紅血球 生\n",
      "成 指數 若 是 正常 或 是 低下 , 則 可 能 是 骨 芋 功能 發 育 不 全 或 是 血液 惡性 疾病 等 所 造成 。 人 類 的 紅血球 生 命 崗 期 約 為 120 天 , 老 的 紅血球 會 漸\n",
      "漸 分 解 、 新 的 紅血球 會 由 骨 芋 不 斷 製造 出 來 , 如 果 供需 發 生 失衡 就 有 可 能 導致 貧血 。 如 上 所 述 , 貧 血 的 定義 很 簡單 , 但 是 成 因 可 能 很 複\n",
      "雜 , 有 可 能 是 單純 的 缺 鐵 、 失 血 或 基因 遺傳 問題 導致 的 貧血 , 也 有 可 能 是 其 他 疾病 所 致 , 如 肺結核 、 自 體 免 疫 疾病 或 風濕 性 關節 炎 等 慢性\n",
      "疾病 。 建 議 大 家 可 以 善 用 健康 檢查 資源 或 發 覺 異 狀 時 及 早 檢 查 , 即 可 早日 察覺 根本 原 因 , 早 日 治療 , 讓 身體 維持 在 最 佳 狀態 。\n",
      "\n",
      " \n",
      "\n",
      " \n",
      "\n",
      " \n",
      "\n",
      " \n",
      "\n",
      " \n",
      "\n",
      " \n",
      "\n",
      " \n",
      "\n",
      " \n",
      "\n",
      " \n",
      "\n",
      " \n",
      "\n",
      " \n",
      "\n",
      " \n",
      "\n",
      " \n",
      "\f",
      "\n"
     ]
    }
   ],
   "source": [
    "from PIL import Image\n",
    "import pytesseract\n",
    "from pytesseract import image_to_string\n",
    "\n",
    "# pytesseract.pytesseract.tesseract_cmd = 'C:/Users/Tingchun.TC.Hung/Anaconda3/envs/NLP/Lib/site-packages/pytesseract/tesseract.exe'\n",
    "pytesseract.pytesseract.tesseract_cmd = 'C:/Users/Tingchun.TC.Hung/AppData/Local/Programs/Tesseract-OCR/tesseract.exe'#-ocr-w64-setup-v4.1.0.20190314\n",
    "\n",
    "target_path = 'C:/Users/Tingchun.TC.Hung/Desktop/Record/文字探勘/OCR/OCR/'\n",
    "\n",
    "img = Image.open(target_path+'純文字_中文.png')\n",
    "text = image_to_string(img, lang='chi_tra') #, lang='eng' chi_tra\n",
    "# text = text.replace('\\n','')\n",
    "# text = text.replace(' ','')\n",
    "print(text)"
   ]
  },
  {
   "cell_type": "code",
   "execution_count": null,
   "metadata": {},
   "outputs": [],
   "source": []
  }
 ],
 "metadata": {
  "kernelspec": {
   "display_name": "NLP",
   "language": "python",
   "name": "nlp"
  },
  "language_info": {
   "codemirror_mode": {
    "name": "ipython",
    "version": 3
   },
   "file_extension": ".py",
   "mimetype": "text/x-python",
   "name": "python",
   "nbconvert_exporter": "python",
   "pygments_lexer": "ipython3",
   "version": "3.6.12"
  }
 },
 "nbformat": 4,
 "nbformat_minor": 4
}
