{
 "cells": [
  {
   "cell_type": "code",
   "execution_count": 1,
   "metadata": {},
   "outputs": [],
   "source": [
    "# pip install dlib==19.6.1\n",
    "# pip install opencv-python"
   ]
  },
  {
   "cell_type": "code",
   "execution_count": 2,
   "metadata": {},
   "outputs": [],
   "source": [
    "import cv2\n",
    "import dlib\n",
    "import numpy as np"
   ]
  },
  {
   "cell_type": "code",
   "execution_count": 3,
   "metadata": {},
   "outputs": [],
   "source": [
    "path = 'C:/Users/student/Desktop/Vision'"
   ]
  },
  {
   "cell_type": "code",
   "execution_count": 5,
   "metadata": {},
   "outputs": [],
   "source": [
    "#照片 68 point\n",
    "\n",
    "\n",
    "#下載裡面\n",
    "\n",
    "PREDICTOR_PATH = path+'/opencv-master/data/haarcascades/shape_predictor_68_face_landmarks.dat'\n",
    "\n",
    "predictor = dlib.shape_predictor(PREDICTOR_PATH)\n",
    "\n",
    "cascade_path = path+'/opencv-master/data/haarcascades/haarcascade_frontalface_default.xml'\n",
    "\n",
    "cascade = cv2.CascadeClassifier(cascade_path)\n",
    "\n",
    "\n",
    "\n",
    "def get_landmarks(im): #找眉毛那些位置\n",
    "\n",
    "    rects = cascade.detectMultiScale(im, 1.3, 8)\n",
    "\n",
    "    for (x,y,w,h) in rects:\n",
    "\n",
    "        rect=dlib.rectangle(int(x),int(y),int(x+w),int(y+h))\n",
    "\n",
    "        dimface = np.matrix([[p.x, p.y] for p in predictor(im, rect).parts()])\n",
    "\n",
    "        im = annotate_landmarks(im, dimface)\n",
    "        \n",
    "\n",
    "    return im\n",
    "\n",
    "def annotate_landmarks(im, landmarks): #在位置上加圈圈&文字\n",
    "\n",
    "    im = im.copy()\n",
    "\n",
    "    for idx, point in enumerate(landmarks):\n",
    "\n",
    "        pos = (point[0, 0], point[0, 1])\n",
    "\n",
    "        cv2.putText(im, str(idx), pos,\n",
    "\n",
    "                    fontFace=cv2.FONT_HERSHEY_SCRIPT_SIMPLEX,\n",
    "\n",
    "                    fontScale=0.4,\n",
    "\n",
    "                    color=(0, 0, 255))\n",
    "\n",
    "        cv2.circle(im, pos, 3, color=(0, 255, 255))\n",
    "\n",
    "    return im\n",
    "\n",
    "img = get_landmarks(cv2.imread(path+'/detect_face.jpg')) #讀圖片 丟進副函式\n",
    "#cv2.imwrite(path+'/output.jpg', get_landmarks(img)) #將圖片丟進副函式 存檔\n",
    "#img=cv2.imread(path+'/output.jpg')#讀圖片\n",
    "\n",
    "cv2.imshow('img', img)\n",
    "cv2.waitKey(0)\n",
    "cv2.destroyAllWindows()\n",
    "#cv2.imwrite(‘output.jpg’, get_landmarks(im))"
   ]
  },
  {
   "cell_type": "code",
   "execution_count": null,
   "metadata": {},
   "outputs": [],
   "source": []
  }
 ],
 "metadata": {
  "kernelspec": {
   "display_name": "vision",
   "language": "python",
   "name": "vision"
  },
  "language_info": {
   "codemirror_mode": {
    "name": "ipython",
    "version": 3
   },
   "file_extension": ".py",
   "mimetype": "text/x-python",
   "name": "python",
   "nbconvert_exporter": "python",
   "pygments_lexer": "ipython3",
   "version": "3.6.10"
  }
 },
 "nbformat": 4,
 "nbformat_minor": 2
}
