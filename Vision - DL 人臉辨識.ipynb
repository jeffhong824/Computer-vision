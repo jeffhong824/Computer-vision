{
 "cells": [
  {
   "cell_type": "code",
   "execution_count": 1,
   "metadata": {},
   "outputs": [],
   "source": [
    "# 資料收集 一個人收4種距離 故xxx-1 xxx-2 xxx-3 xxx-4\n",
    "\n",
    "#前提需要 :\n",
    "#偵測人臉detector dlib.get_frontal_face_detector() import from dlib庫\n",
    "#偵測68點人臉位置 "
   ]
  },
  {
   "cell_type": "code",
   "execution_count": 2,
   "metadata": {},
   "outputs": [],
   "source": [
    "#困難點\n",
    "\n",
    "#使用在現實中 程式內容不能太複雜 --> 讀取存取不能太多 否則程式會慢\n",
    "\n",
    "#人臉辨識部分 \n",
    "\n",
    "#人臉距離部分 : 若太近則臉部大小變化會引響判斷 --> 訓練特徵不能太少否則變化性大(如僅有臉寬、臉高) 臉寬、臉高+68個位置 距離頭頂高度 & 距離左臉夾寬度 = 138點"
   ]
  },
  {
   "cell_type": "code",
   "execution_count": 4,
   "metadata": {},
   "outputs": [],
   "source": [
    "path = \"C:/Users/student/Desktop/github/Vision/data_all\""
   ]
  },
  {
   "cell_type": "markdown",
   "metadata": {},
   "source": [
    "# 拍人臉照片 & 收集距離"
   ]
  },
  {
   "cell_type": "code",
   "execution_count": 5,
   "metadata": {},
   "outputs": [],
   "source": [
    "#拍人臉照片 & 收集距離\n",
    "import dlib                     \n",
    "import numpy as np              \n",
    "import cv2                      \n",
    "\n",
    "class face_emotion():\n",
    " \n",
    "    def __init__(self):        \n",
    "        self.detector = dlib.get_frontal_face_detector() # 偵測人臉位置\n",
    "        self.predictor = dlib.shape_predictor(path+\"/opencv-master/data/haarcascades/shape_predictor_68_face_landmarks.dat\") #偵測68    \n",
    "        self.cap = cv2.VideoCapture(0)\n",
    "        self.cap.set(3, 480)\n",
    "        self.cnt = 0\n",
    "\n",
    "    def learning_face(self):       \n",
    "        count=800\n",
    "        \n",
    "        save_orignal=\"C:/Users/student/Desktop/github/Vision/save_photo/face\" #存原始攝影機照片位置\n",
    "        save_face=\"C:/Users/student/Desktop/github/Vision/save_photo/face_cut\" #存截取下人臉位置\n",
    "        with open('C:/Users/student/Desktop/github/Vision/save_photo/face_distance_train_distance_90.txt','a',encoding='utf-8') as file:\n",
    "            while(self.cap.isOpened()):\n",
    "\n",
    "                flag, im_rd = self.cap.read()\n",
    "                k = cv2.waitKey(1)\n",
    "                img_gray = cv2.cvtColor(im_rd, cv2.COLOR_RGB2GRAY) #灰階        \n",
    "                faces = self.detector(img_gray, 0) #用灰階的來偵測人臉數\n",
    "                font = cv2.FONT_HERSHEY_SIMPLEX   \n",
    "                if(len(faces)==1): #若偵測到一張人臉\n",
    "\n",
    "                    for i in range(len(faces)):#從第一張臉開始處理\n",
    "                        for k, d in enumerate(faces): # d是位置\n",
    "                            cv2.rectangle(im_rd, (d.left(), d.top()), (d.right(), d.bottom()), (0, 0, 255)) #先用框框將人臉框住\n",
    "                            self.face_width = d.right() - d.left() #此人臉的寬度\n",
    "                            self.face_high = d.bottom() - d.top() #此人臉的高度\n",
    "                            file.write(str(self.face_width)+'\\n')\n",
    "                            file.write(str(self.face_high)+'\\n')\n",
    "                            im_rd = cv2.putText(im_rd, 'person'+str(i)+str(int(self.face_width))+str(int(self.face_high)), (d.left(), d.top()), font, 0.8, (0, 0, 255), 1, cv2.LINE_AA)\n",
    "                            shape = self.predictor(im_rd, d) # 將圖檔 及 人臉位置 傳給 偵測68點的程式判斷\n",
    "\n",
    "                            for face_point in range(68):\n",
    "                                cv2.circle(im_rd, (shape.part(face_point).x, shape.part(face_point).y), 2, (0, 255, 0), -1, 8) #特地將每個點都框出來\n",
    "                                file.write(str(shape.part(face_point).y - d.top()) +'\\n')\n",
    "                                file.write(str(shape.part(face_point).x - d.left()) +'\\n')\n",
    "\n",
    "                            #存照片部分\n",
    "\n",
    "                            if count<1200: # 設定存多少張照片\n",
    "                                cv2.imwrite(save_orignal + str(count) +\".jpg\", img_gray) #先存一張在save_orignal 備份 img_gray(灰階) im_rd(彩色+有框)\n",
    "\n",
    "                                img = cv2.imread(save_orignal + str(count) + \".jpg\")  \n",
    "                                face_rects = self.detector(img, 0)\n",
    "                                for i, d in enumerate(face_rects):\n",
    "                                    img_face = img[d.top():d.bottom(),d.left():d.right()] #擷取人臉部分\n",
    "                                    img_face = cv2.resize(img_face, (125,125), interpolation=cv2.INTER_CUBIC) #將擷取部分壓縮成125 * 125\n",
    "                                    cv2.imshow(\"Face Detection \"+str(i), img_face) #將擷取下人臉部分show出來\n",
    "                                    cv2.imwrite(save_face+str(count)+\".jpg\", img_face) #存下人臉\n",
    "                                    im_rd = cv2.putText(im_rd, \"screenshot\"+str(count), (20, 450), font, 0.8, (0, 0, 255), 1, cv2.LINE_AA) #寫下存了多少張\n",
    "                                count=count+1\n",
    "                            else:\n",
    "                                im_rd = cv2.putText(im_rd,\"screenshot\"+str(count), (20, 450), font, 0.8, (0, 0, 255), 1, cv2.LINE_AA)                                  \n",
    "\n",
    "                else:\n",
    "                    cv2.putText(im_rd, \"No Face\", (20, 50), font, 1, (0, 0, 255), 1, cv2.LINE_AA)\n",
    "                cv2.imshow(\"camera\", im_rd)\n",
    "                file.write('\\n')\n",
    "                if k==ord('q'):\n",
    "                    break\n",
    "        self.cap.release()\n",
    "        cv2.destroyAllWindows()\n",
    "        \n",
    "if __name__ == \"__main__\":\n",
    "    my_face = face_emotion()\n",
    "    my_face.learning_face()"
   ]
  },
  {
   "cell_type": "markdown",
   "metadata": {},
   "source": [
    "# 製作 人臉辨識model"
   ]
  },
  {
   "cell_type": "code",
   "execution_count": 2,
   "metadata": {},
   "outputs": [],
   "source": [
    "#製作 人臉辨識model"
   ]
  },
  {
   "cell_type": "code",
   "execution_count": 7,
   "metadata": {},
   "outputs": [
    {
     "name": "stdout",
     "output_type": "stream",
     "text": [
      "路徑下資料夾數量 0\n",
      "需要總空間: 0\n",
      "(0,)\n",
      "data (0,)\n",
      "label (0,)\n"
     ]
    }
   ],
   "source": [
    "#資料庫\n",
    "\n",
    "import cv2\n",
    "import dlib\n",
    "import os\n",
    "import imutils\n",
    "from os import listdir\n",
    "from os.path import isfile, isdir, join\n",
    "import numpy as np\n",
    "from os import walk\n",
    "import pandas as pd\n",
    "import numpy as np\n",
    "\n",
    "\n",
    "list_name=[]\n",
    "path = \"C:/Users/student/Desktop/github/Vision/save_photo/face_data\"    #獲取當前路徑 !!!!!!!!!!!!!!\n",
    "\n",
    "num_dirs = 0 #路徑下資料夾數量\n",
    "num_files = 0 #路徑下檔案數量(包括資料夾)\n",
    "num_files_rec = 0 #路徑下檔案數量,包括子資料夾裡的檔案數量，不包括空資料夾\n",
    "\n",
    "\n",
    "for root,dirs,files in os.walk(path):    #遍歷統計''\n",
    "    for name in dirs:\n",
    "        num_dirs += 1\n",
    "        print (os.path.join(root,name),\"資料夾名稱:\",name)\n",
    "        list_name.append(name)\n",
    "'''\n",
    "for fn in os.listdir(path):\n",
    "        num_files += 1\n",
    "        print (fn)\n",
    "'''\n",
    "print (\"路徑下資料夾數量\",num_dirs)\n",
    "\n",
    "people=len(list_name)\n",
    "all_space=[]\n",
    "answer=0\n",
    "\n",
    "for run in range(people):\n",
    "\n",
    "    mypath=path+\"/\"+list_name[run]\n",
    "    math=0 \n",
    "    for root, dirs, files in walk(mypath):\n",
    "        print(\"檔案大小:\",len(files))\n",
    "    math=len(files)\n",
    "    all_space.append(math)\n",
    "    answer=answer+all_space[run]\n",
    "print(\"需要總空間:\",answer)\n",
    "train=[]\n",
    "target=[]\n",
    "for i in range(answer):#多一個當標題\n",
    "    train.append([])\n",
    "    target.append([])\n",
    "print(np.shape(train))\n",
    "train_num=0\n",
    "target_num_z=0\n",
    "target_num=[0]\n",
    "\n",
    "for run in range(people):\n",
    "    \n",
    "    mypath=path+\"/\"+list_name[run]\n",
    "    math=0 \n",
    "    for root, dirs, files in walk(mypath):\n",
    "        print(mypath)\n",
    "        print(\"檔案個數:\",len(files))\n",
    "        target_num_z+=len(files)\n",
    "        target_num.append(target_num_z)\n",
    "    math=all_space[run]\n",
    "    for picture in range(math): \n",
    "        img = cv2.imread(mypath+\"/\"+files[picture])\n",
    "        train[train_num]=img\n",
    "        train_num+=1\n",
    "        \n",
    "for run in range(people):\n",
    "    for k in range(target_num[run],target_num[run+1]):\n",
    "        target[k].append(run)\n",
    "print(\"data\",np.shape(train))\n",
    "print(\"label\",np.shape(target))"
   ]
  },
  {
   "cell_type": "code",
   "execution_count": 2,
   "metadata": {},
   "outputs": [
    {
     "name": "stdout",
     "output_type": "stream",
     "text": [
      "x_train_image: (2688, 125, 125, 3)\n",
      "y_train_label: (2688, 1)\n"
     ]
    }
   ],
   "source": [
    "#資料切割與訓練\n",
    "\n",
    "from sklearn.model_selection import train_test_split\n",
    "x_Train,x_Test,y_Train,y_Test = train_test_split(train,target,test_size=0.3,random_state=33)\n",
    "print('x_train_image:',np.shape(x_Train))\n",
    "print('y_train_label:',np.shape(y_Train))\n",
    "import matplotlib.pyplot as plt\n",
    "def plot_image(image):\n",
    "    fig = plt.gcf()\n",
    "    fig.set_size_inches(2, 2)\n",
    "    plt.imshow(image, cmap='binary')\n",
    "    plt.show()"
   ]
  },
  {
   "cell_type": "code",
   "execution_count": 3,
   "metadata": {},
   "outputs": [],
   "source": [
    "import matplotlib.pyplot as plt\n",
    "def plot_images_labels_prediction(images,labels,prediction,idx,num=10):\n",
    "    fig = plt.gcf()\n",
    "    fig.set_size_inches(12, 14)\n",
    "    if num>25: num=25 \n",
    "    for i in range(0, num):\n",
    "        ax=plt.subplot(5,5, 1+i)\n",
    "        ax.imshow(images[idx], cmap='binary')\n",
    "        title= \"label=\" +str(labels[idx])\n",
    "        if len(prediction)>0:\n",
    "            title+=\",predict=\"+str(prediction[idx]) \n",
    "            \n",
    "        ax.set_title(title,fontsize=10) \n",
    "        ax.set_xticks([]);ax.set_yticks([])        \n",
    "        idx+=1 \n",
    "    plt.show()"
   ]
  },
  {
   "cell_type": "code",
   "execution_count": 4,
   "metadata": {},
   "outputs": [
    {
     "data": {
      "image/png": "[encoded data removed]",
      "text/plain": [
       "<Figure size 864x1008 with 10 Axes>"
      ]
     },
     "metadata": {},
     "output_type": "display_data"
    }
   ],
   "source": [
    "plot_images_labels_prediction(x_Train,y_Train,[],0,10)"
   ]
  },
  {
   "cell_type": "code",
   "execution_count": 5,
   "metadata": {},
   "outputs": [
    {
     "name": "stdout",
     "output_type": "stream",
     "text": [
      "<class 'list'>\n",
      "<class 'numpy.ndarray'>\n"
     ]
    },
    {
     "name": "stderr",
     "output_type": "stream",
     "text": [
      "Using TensorFlow backend.\n"
     ]
    }
   ],
   "source": [
    "print(type(x_Train))\n",
    "x_Train=np.array(x_Train)\n",
    "y_Train=np.array(y_Train)\n",
    "x_Test=np.array(x_Test)\n",
    "x_Test=np.array(x_Test)\n",
    "print(type(x_Train))\n",
    "x_Train4D=x_Train.reshape(x_Train.shape[0],125,125,3).astype('float32')\n",
    "x_Test4D=x_Test.reshape(x_Test.shape[0],125,125,3).astype('float32')\n",
    "x_Train4D=np.delete(x_Train4D, [1,2], axis=3)\n",
    "x_Test4D=np.delete(x_Test4D, [1,2], axis=3)\n",
    "x_Train=np.delete(x_Train, [1,2], axis=3)\n",
    "x_Test=np.delete(x_Test, [1,2], axis=3)\n",
    "x_Train4D_normalize = x_Train / 255\n",
    "x_Test4D_normalize = x_Test / 255\n",
    "x_Train4D_normalize.shape\n",
    "from keras.utils import np_utils\n",
    "y_TrainOneHot = np_utils.to_categorical(y_Train)\n",
    "y_TestOneHot = np_utils.to_categorical(y_Test)"
   ]
  },
  {
   "cell_type": "code",
   "execution_count": 6,
   "metadata": {},
   "outputs": [],
   "source": [
    "from keras.models import Sequential\n",
    "from keras.layers import Dense,Dropout,Flatten,Conv2D,MaxPooling2D"
   ]
  },
  {
   "cell_type": "code",
   "execution_count": 7,
   "metadata": {},
   "outputs": [
    {
     "name": "stdout",
     "output_type": "stream",
     "text": [
      "WARNING:tensorflow:From C:\\Users\\jeffh\\Anaconda3\\envs\\Tensorflow\\lib\\site-packages\\tensorflow\\python\\framework\\op_def_library.py:263: colocate_with (from tensorflow.python.framework.ops) is deprecated and will be removed in a future version.\n",
      "Instructions for updating:\n",
      "Colocations handled automatically by placer.\n",
      "WARNING:tensorflow:From C:\\Users\\jeffh\\Anaconda3\\envs\\Tensorflow\\lib\\site-packages\\keras\\backend\\tensorflow_backend.py:3445: calling dropout (from tensorflow.python.ops.nn_ops) with keep_prob is deprecated and will be removed in a future version.\n",
      "Instructions for updating:\n",
      "Please use `rate` instead of `keep_prob`. Rate should be set to `rate = 1 - keep_prob`.\n",
      "_________________________________________________________________\n",
      "Layer (type)                 Output Shape              Param #   \n",
      "=================================================================\n",
      "conv2d_1 (Conv2D)            (None, 125, 125, 16)      416       \n",
      "_________________________________________________________________\n",
      "max_pooling2d_1 (MaxPooling2 (None, 62, 62, 16)        0         \n",
      "_________________________________________________________________\n",
      "conv2d_2 (Conv2D)            (None, 62, 62, 36)        14436     \n",
      "_________________________________________________________________\n",
      "max_pooling2d_2 (MaxPooling2 (None, 31, 31, 36)        0         \n",
      "_________________________________________________________________\n",
      "dropout_1 (Dropout)          (None, 31, 31, 36)        0         \n",
      "_________________________________________________________________\n",
      "flatten_1 (Flatten)          (None, 34596)             0         \n",
      "_________________________________________________________________\n",
      "dense_1 (Dense)              (None, 128)               4428416   \n",
      "_________________________________________________________________\n",
      "dropout_2 (Dropout)          (None, 128)               0         \n",
      "_________________________________________________________________\n",
      "dense_2 (Dense)              (None, 3)                 387       \n",
      "=================================================================\n",
      "Total params: 4,443,655\n",
      "Trainable params: 4,443,655\n",
      "Non-trainable params: 0\n",
      "_________________________________________________________________\n",
      "None\n"
     ]
    }
   ],
   "source": [
    "model = Sequential()\n",
    "#filter為16, Kernel size為(5,5),Padding為(same)\n",
    "model.add(Conv2D(filters=16,\n",
    "                 kernel_size=(5,5),\n",
    "                 padding='same',\n",
    "                 input_shape=(125,125,1), \n",
    "                 activation='relu'))\n",
    "# MaxPooling size為(2,2)\n",
    "model.add(MaxPooling2D(pool_size=(2, 2)))\n",
    "model.add(Conv2D(filters=36,\n",
    "                 kernel_size=(5,5),\n",
    "                 padding='same',\n",
    "                 activation='relu'))\n",
    "model.add(MaxPooling2D(pool_size=(2, 2)))\n",
    "# Drop掉部分神經元避免overfitting\n",
    "model.add(Dropout(0.25))\n",
    "# 平坦化\n",
    "model.add(Flatten())\n",
    "model.add(Dense(128, activation='relu'))#回歸用\n",
    "model.add(Dropout(0.5))\n",
    "model.add(Dense(people,activation='softmax'))#分類用\n",
    "print(model.summary())\n",
    "model.compile(loss='categorical_crossentropy', optimizer='adam',metrics=['accuracy']) #sparse_categorical_crossentropy categorical_crossentropy"
   ]
  },
  {
   "cell_type": "code",
   "execution_count": 8,
   "metadata": {},
   "outputs": [
    {
     "name": "stdout",
     "output_type": "stream",
     "text": [
      "WARNING:tensorflow:From C:\\Users\\jeffh\\Anaconda3\\envs\\Tensorflow\\lib\\site-packages\\tensorflow\\python\\ops\\math_ops.py:3066: to_int32 (from tensorflow.python.ops.math_ops) is deprecated and will be removed in a future version.\n",
      "Instructions for updating:\n",
      "Use tf.cast instead.\n",
      "Train on 2150 samples, validate on 538 samples\n",
      "Epoch 1/20\n",
      " - 52s - loss: 0.9292 - acc: 0.5986 - val_loss: 0.3687 - val_acc: 0.9480\n",
      "Epoch 2/20\n",
      " - 46s - loss: 0.3004 - acc: 0.9112 - val_loss: 0.1476 - val_acc: 0.9498\n",
      "Epoch 3/20\n",
      " - 44s - loss: 0.1730 - acc: 0.9405 - val_loss: 0.0674 - val_acc: 0.9796\n",
      "Epoch 4/20\n",
      " - 42s - loss: 0.1028 - acc: 0.9674 - val_loss: 0.0463 - val_acc: 0.9851\n",
      "Epoch 5/20\n",
      " - 42s - loss: 0.0611 - acc: 0.9847 - val_loss: 0.0198 - val_acc: 0.9963\n",
      "Epoch 6/20\n",
      " - 42s - loss: 0.0422 - acc: 0.9879 - val_loss: 0.0158 - val_acc: 1.0000\n",
      "Epoch 7/20\n",
      " - 42s - loss: 0.0341 - acc: 0.9912 - val_loss: 0.0120 - val_acc: 0.9963\n",
      "Epoch 8/20\n",
      " - 43s - loss: 0.0272 - acc: 0.9935 - val_loss: 0.0076 - val_acc: 1.0000\n",
      "Epoch 9/20\n",
      " - 42s - loss: 0.0162 - acc: 0.9958 - val_loss: 0.0043 - val_acc: 1.0000\n",
      "Epoch 10/20\n",
      " - 43s - loss: 0.0100 - acc: 0.9991 - val_loss: 0.0033 - val_acc: 1.0000\n",
      "Epoch 11/20\n",
      " - 43s - loss: 0.0093 - acc: 0.9986 - val_loss: 0.0033 - val_acc: 1.0000\n",
      "Epoch 12/20\n",
      " - 42s - loss: 0.0112 - acc: 0.9972 - val_loss: 0.0245 - val_acc: 0.9907\n",
      "Epoch 13/20\n",
      " - 42s - loss: 0.0216 - acc: 0.9949 - val_loss: 0.0029 - val_acc: 0.9981\n",
      "Epoch 14/20\n",
      " - 42s - loss: 0.0083 - acc: 0.9981 - val_loss: 0.0017 - val_acc: 1.0000\n",
      "Epoch 15/20\n",
      " - 44s - loss: 0.0044 - acc: 0.9995 - val_loss: 8.2882e-04 - val_acc: 1.0000\n",
      "Epoch 16/20\n",
      " - 57s - loss: 0.0055 - acc: 0.9981 - val_loss: 0.0014 - val_acc: 1.0000\n",
      "Epoch 17/20\n",
      " - 64s - loss: 0.0062 - acc: 0.9991 - val_loss: 0.0027 - val_acc: 0.9981\n",
      "Epoch 18/20\n",
      " - 61s - loss: 0.0061 - acc: 0.9986 - val_loss: 4.5119e-04 - val_acc: 1.0000\n",
      "Epoch 19/20\n",
      " - 48s - loss: 0.0033 - acc: 0.9991 - val_loss: 4.7111e-04 - val_acc: 1.0000\n",
      "Epoch 20/20\n",
      " - 44s - loss: 0.0019 - acc: 0.9995 - val_loss: 2.5610e-04 - val_acc: 1.0000\n"
     ]
    }
   ],
   "source": [
    "#Model訓練\n",
    "train_history=model.fit(x=x_Train4D_normalize, y=y_TrainOneHot,validation_split=0.2, epochs=20, batch_size=100,verbose=2)\n",
    "#存model\n",
    "model.save(\"D:/program/python/Dlib/photo_100/data_analysis/model/data_analysis_face_recognize.h5\") #face_weight.h5/face_weight_4.h5 face_weight_418"
   ]
  },
  {
   "cell_type": "code",
   "execution_count": 9,
   "metadata": {},
   "outputs": [],
   "source": [
    "from numpy import argmax\n",
    "from sklearn.preprocessing import LabelEncoder\n",
    "\n",
    "prediction_proba=model.predict(x_Test4D_normalize)\n",
    "prediction = argmax(prediction_proba,axis=1)"
   ]
  },
  {
   "cell_type": "code",
   "execution_count": 11,
   "metadata": {},
   "outputs": [
    {
     "name": "stdout",
     "output_type": "stream",
     "text": [
      "              precision    recall  f1-score   support\n",
      "\n",
      "           0       1.00      1.00      1.00       350\n",
      "           1       1.00      1.00      1.00       346\n",
      "           2       1.00      1.00      1.00       457\n",
      "\n",
      "   micro avg       1.00      1.00      1.00      1153\n",
      "   macro avg       1.00      1.00      1.00      1153\n",
      "weighted avg       1.00      1.00      1.00      1153\n",
      "\n"
     ]
    }
   ],
   "source": [
    "from sklearn.metrics import classification_report\n",
    "print(classification_report(y_Test, prediction))"
   ]
  },
  {
   "cell_type": "markdown",
   "metadata": {},
   "source": [
    "# 製作 人臉距離回歸model"
   ]
  },
  {
   "cell_type": "code",
   "execution_count": 6,
   "metadata": {},
   "outputs": [],
   "source": [
    "#讀資料\n",
    "train_30_data=[]\n",
    "train_60_data=[]\n",
    "train_90_data=[]\n",
    "\n",
    "def read_distance_data(path,list_name):\n",
    "    train_data =[]\n",
    "    return_data = list_name\n",
    "    with open (path,'r',encoding='utf-8') as file :        \n",
    "        for line in file:\n",
    "            if line != '\\n':   \n",
    "                train_data.append(int(line.replace('\\n','')))\n",
    "            else:\n",
    "                if(len(train_data)==138):\n",
    "                    return_data.append(train_data)\n",
    "                train_data =[]\n",
    "    return return_data\n",
    "\n",
    "train_30_data=read_distance_data('D:/program/python/Dlib/photo_100/data_analysis/face_distance_train_distance_30.txt',train_30_data)\n",
    "train_60_data=read_distance_data('D:/program/python/Dlib/photo_100/data_analysis/face_distance_train_distance_60.txt',train_60_data)\n",
    "train_90_data=read_distance_data('D:/program/python/Dlib/photo_100/data_analysis/face_distance_train_distance_90.txt',train_60_data)\n",
    "#train_90_data=read_distance_data('D:/program/python/Dlib/photo_100/data_anlysis/face_distance_train_90.txt',train_90_data)"
   ]
  },
  {
   "cell_type": "code",
   "execution_count": 7,
   "metadata": {},
   "outputs": [],
   "source": [
    "from __future__ import print_function\n",
    "from sklearn.model_selection import train_test_split\n",
    "from sklearn.model_selection import GridSearchCV\n",
    "from sklearn.metrics import classification_report\n",
    "from sklearn.pipeline import Pipeline\n",
    "import pandas as pd\n",
    "from sklearn.preprocessing import StandardScaler \n",
    "from sklearn.decomposition import pca #Rpca svd lle lda\n",
    "from sklearn.model_selection import KFold\n",
    "import os\n",
    "import warnings\n",
    "import numpy as np\n",
    "warnings.filterwarnings('ignore')\n",
    "\n",
    "#import model\n",
    "from sklearn.linear_model import LinearRegression\n",
    "from sklearn.svm import SVR\n",
    "from sklearn import tree , neighbors,ensemble,ensemble\n",
    "#import score\n",
    "from sklearn.metrics import mean_squared_error, mean_absolute_error, median_absolute_error,r2_score,explained_variance_score"
   ]
  },
  {
   "cell_type": "code",
   "execution_count": 8,
   "metadata": {},
   "outputs": [
    {
     "name": "stdout",
     "output_type": "stream",
     "text": [
      "30 2542\n",
      "90 7062\n"
     ]
    }
   ],
   "source": [
    "print('30',len(train_30_data))\n",
    "print('90',len(train_90_data))\n",
    "#print('90',len(train_90_data))\n",
    "min_distance_data = min(len(train_30_data),len(train_90_data))#,len(train_90_data)"
   ]
  },
  {
   "cell_type": "code",
   "execution_count": 9,
   "metadata": {},
   "outputs": [],
   "source": [
    "#data\n",
    "train = train_30_data[:min_distance_data] + train_90_data[:min_distance_data] #+ train_90_data[:min_distance_data]\n",
    "target = [30 for i in range(min_distance_data)]+[90 for i in range(min_distance_data)]#+[90 for i in range(min_distance_data)]"
   ]
  },
  {
   "cell_type": "code",
   "execution_count": 10,
   "metadata": {},
   "outputs": [],
   "source": [
    "#train[0]"
   ]
  },
  {
   "cell_type": "code",
   "execution_count": 11,
   "metadata": {},
   "outputs": [
    {
     "name": "stdout",
     "output_type": "stream",
     "text": [
      "(5084, 138) (5084,)\n"
     ]
    }
   ],
   "source": [
    "print(np.array(train).shape,np.array(target).shape)"
   ]
  },
  {
   "cell_type": "code",
   "execution_count": 12,
   "metadata": {},
   "outputs": [],
   "source": [
    "#preprocess\n",
    "from sklearn import preprocessing\n",
    "#miss\n",
    "#train = train.fillna(train.median())\n",
    "#train = preprocessing.scale(train)\n",
    "#train =preprocessing.normalize(train, norm='l2')\n",
    "#min_max_scaler = preprocessing.MinMaxScaler()\n",
    "#train = min_max_scaler.fit_transform(train)\n",
    "Scale = preprocessing.StandardScaler()\n",
    "Normal = preprocessing.Normalizer(norm='l2')"
   ]
  },
  {
   "cell_type": "code",
   "execution_count": 13,
   "metadata": {},
   "outputs": [],
   "source": [
    "#交叉驗證目的是調參\n",
    "CV=4\n",
    "SIZE=0.2\n",
    "STATE=1\n",
    "\n",
    "train_feature,test_feature,train_label,test_label = train_test_split(train,target,test_size=SIZE,random_state=STATE) "
   ]
  },
  {
   "cell_type": "markdown",
   "metadata": {},
   "source": [
    "### LinearRegression"
   ]
  },
  {
   "cell_type": "code",
   "execution_count": 32,
   "metadata": {},
   "outputs": [
    {
     "name": "stdout",
     "output_type": "stream",
     "text": [
      "SCORE1:\n",
      "r2:\n",
      "Best parameters set found on development set:\n",
      "{'lr__n_jobs': 1}\n",
      "Best score on development set:\n",
      "0.5840843226550181\n",
      "\n",
      "\n",
      "SCORE2:\n",
      "mean_squared_error: 94.49038439852154\n",
      "mean_absolute_error: 7.416822561798202\n",
      "r2_score: 0.5800405064014953\n"
     ]
    }
   ],
   "source": [
    "#LinearRegression\n",
    "\n",
    "#pca = RandomizedPCA(n_components=70,copy=True, iterated_power=3, whiten=True, random_state=42) \n",
    "lr = LinearRegression(fit_intercept=True, normalize=False, copy_X=True, n_jobs=None)\n",
    "model=Pipeline(steps=[('Scale',Scale),('Normal',Normal),('lr',lr)])#('Scale',Scale),('Normal',Normal),\n",
    "\n",
    "tuned_parameters = [{\n",
    "                     #'pca__n_components': [30,70,140,500],     \n",
    "                     'lr__n_jobs': [1,2,None]\n",
    "                     }]  \n",
    "\n",
    "scores = ['r2']#'precision', 'recall','f1'\n",
    "\n",
    "print(\"SCORE1:\")\n",
    "for score in scores:\n",
    "    print(\"%s:\" % score)\n",
    "    clf = GridSearchCV(model, tuned_parameters, cv=CV,scoring='%s' % score)#SVC(kernel='rbf') #_weighted \n",
    "    clf.fit(train_feature, train_label)  \n",
    "    print(\"Best parameters set found on development set:\")\n",
    "    print(clf.best_params_)\n",
    "    print(\"Best score on development set:\")\n",
    "    print(clf.best_score_)\n",
    "\n",
    "print(\"\\n\")\n",
    "print(\"SCORE2:\")\n",
    "\n",
    "y_true, y_pred = test_label, clf.predict(test_feature)\n",
    "print('mean_squared_error:',mean_squared_error(y_true,y_pred))\n",
    "print('mean_absolute_error:',mean_absolute_error(y_true,y_pred))\n",
    "#print('median_absolute_error:',median_absolute_error(y_true,y_pred))\n",
    "#print('explained_variance_score:',explained_variance_score(y_true,y_pred))\n",
    "print('r2_score:',r2_score(y_true,y_pred))"
   ]
  },
  {
   "cell_type": "markdown",
   "metadata": {},
   "source": [
    "## DT regression"
   ]
  },
  {
   "cell_type": "code",
   "execution_count": 36,
   "metadata": {},
   "outputs": [
    {
     "name": "stdout",
     "output_type": "stream",
     "text": [
      "SCORE1:\n",
      "r2:\n",
      "Best parameters set found on development set:\n",
      "{}\n",
      "Best score on development set:\n",
      "0.7267724651355123\n",
      "\n",
      "\n",
      "SCORE2:\n",
      "mean_squared_error: 49.76958525345622\n",
      "mean_absolute_error: 1.6589861751152073\n",
      "r2_score: 0.7788006689495899\n"
     ]
    }
   ],
   "source": [
    "#pca = RandomizedPCA(n_components=70,copy=True, iterated_power=3, whiten=True, random_state=42) \n",
    "DT = tree.DecisionTreeRegressor()\n",
    "model=Pipeline(steps=[('Scale',Scale),('Normal',Normal),('DT',DT)])#('Scale',Scale),('Normal',Normal),\n",
    "\n",
    "tuned_parameters = [{\n",
    "                     #'pca__n_components': [30,70,140,500],     \n",
    "                     #'lr__n_jobs': [1,2,None]\n",
    "                     }]  \n",
    "\n",
    "scores = ['r2']#'precision', 'recall','f1'\n",
    "\n",
    "print(\"SCORE1:\")\n",
    "for score in scores:\n",
    "    print(\"%s:\" % score)\n",
    "    clf = GridSearchCV(model, tuned_parameters, cv=CV,scoring='%s' % score)#SVC(kernel='rbf') #_weighted \n",
    "    clf.fit(train_feature, train_label)  \n",
    "    print(\"Best parameters set found on development set:\")\n",
    "    print(clf.best_params_)\n",
    "    print(\"Best score on development set:\")\n",
    "    print(clf.best_score_)\n",
    "\n",
    "print(\"\\n\")\n",
    "print(\"SCORE2:\")\n",
    "\n",
    "y_true, y_pred = test_label, clf.predict(test_feature)\n",
    "print('mean_squared_error:',mean_squared_error(y_true,y_pred))\n",
    "print('mean_absolute_error:',mean_absolute_error(y_true,y_pred))\n",
    "#print('median_absolute_error:',median_absolute_error(y_true,y_pred))\n",
    "#print('explained_variance_score:',explained_variance_score(y_true,y_pred))\n",
    "print('r2_score:',r2_score(y_true,y_pred))"
   ]
  },
  {
   "cell_type": "markdown",
   "metadata": {},
   "source": [
    "## RandomForest regression"
   ]
  },
  {
   "cell_type": "code",
   "execution_count": 40,
   "metadata": {},
   "outputs": [
    {
     "name": "stdout",
     "output_type": "stream",
     "text": [
      "SCORE1:\n",
      "r2:\n",
      "Best parameters set found on development set:\n",
      "{}\n",
      "Best score on development set:\n",
      "0.8577808850762481\n",
      "\n",
      "\n",
      "SCORE2:\n",
      "mean_squared_error: 30.50201612903226\n",
      "mean_absolute_error: 2.3657834101382487\n",
      "r2_score: 0.8644347641421783\n"
     ]
    }
   ],
   "source": [
    "#pca = RandomizedPCA(n_components=70,copy=True, iterated_power=3, whiten=True, random_state=42) \n",
    "RF = ensemble.RandomForestRegressor(n_estimators =20)\n",
    "model=Pipeline(steps=[('Scale',Scale),('Normal',Normal),('RF',RF)])#('Scale',Scale),('Normal',Normal),\n",
    "\n",
    "tuned_parameters = [{\n",
    "                     #'pca__n_components': [30,70,140,500],     \n",
    "                     #'lr__n_jobs': [1,2,None]\n",
    "                     }]  \n",
    "\n",
    "scores = ['r2']#'precision', 'recall','f1'\n",
    "\n",
    "print(\"SCORE1:\")\n",
    "for score in scores:\n",
    "    print(\"%s:\" % score)\n",
    "    clf = GridSearchCV(model, tuned_parameters, cv=CV,scoring='%s' % score)#SVC(kernel='rbf') #_weighted \n",
    "    clf.fit(train_feature, train_label)  \n",
    "    print(\"Best parameters set found on development set:\")\n",
    "    print(clf.best_params_)\n",
    "    print(\"Best score on development set:\")\n",
    "    print(clf.best_score_)\n",
    "\n",
    "print(\"\\n\")\n",
    "print(\"SCORE2:\")\n",
    "\n",
    "y_true, y_pred = test_label, clf.predict(test_feature)\n",
    "print('mean_squared_error:',mean_squared_error(y_true,y_pred))\n",
    "print('mean_absolute_error:',mean_absolute_error(y_true,y_pred))\n",
    "#print('median_absolute_error:',median_absolute_error(y_true,y_pred))\n",
    "#print('explained_variance_score:',explained_variance_score(y_true,y_pred))\n",
    "print('r2_score:',r2_score(y_true,y_pred))"
   ]
  },
  {
   "cell_type": "markdown",
   "metadata": {},
   "source": [
    "## Adaboost regression"
   ]
  },
  {
   "cell_type": "code",
   "execution_count": 47,
   "metadata": {},
   "outputs": [
    {
     "name": "stdout",
     "output_type": "stream",
     "text": [
      "SCORE1:\n",
      "r2:\n",
      "Best parameters set found on development set:\n",
      "{}\n",
      "Best score on development set:\n",
      "0.5156776003698338\n",
      "\n",
      "\n",
      "SCORE2:\n",
      "mean_squared_error: 132.00024744722708\n",
      "mean_absolute_error: 10.675323515427245\n",
      "r2_score: 0.41332911887611967\n"
     ]
    }
   ],
   "source": [
    "#pca = RandomizedPCA(n_components=70,copy=True, iterated_power=3, whiten=True, random_state=42) \n",
    "ada = ensemble.AdaBoostRegressor(n_estimators =50)\n",
    "model=Pipeline(steps=[('ada',ada)])#('Scale',Scale),('Normal',Normal),\n",
    "\n",
    "tuned_parameters = [{\n",
    "                     #'pca__n_components': [30,70,140,500],     \n",
    "                     #'lr__n_jobs': [1,2,None]\n",
    "                     }]  \n",
    "\n",
    "scores = ['r2']#'precision', 'recall','f1'\n",
    "\n",
    "print(\"SCORE1:\")\n",
    "for score in scores:\n",
    "    print(\"%s:\" % score)\n",
    "    clf = GridSearchCV(model, tuned_parameters, cv=CV,scoring='%s' % score)#SVC(kernel='rbf') #_weighted \n",
    "    clf.fit(train_feature, train_label)  \n",
    "    print(\"Best parameters set found on development set:\")\n",
    "    print(clf.best_params_)\n",
    "    print(\"Best score on development set:\")\n",
    "    print(clf.best_score_)\n",
    "\n",
    "print(\"\\n\")\n",
    "print(\"SCORE2:\")\n",
    "\n",
    "y_true, y_pred = test_label, clf.predict(test_feature)\n",
    "print('mean_squared_error:',mean_squared_error(y_true,y_pred))\n",
    "print('mean_absolute_error:',mean_absolute_error(y_true,y_pred))\n",
    "#print('median_absolute_error:',median_absolute_error(y_true,y_pred))\n",
    "#print('explained_variance_score:',explained_variance_score(y_true,y_pred))\n",
    "print('r2_score:',r2_score(y_true,y_pred))"
   ]
  },
  {
   "cell_type": "markdown",
   "metadata": {},
   "source": [
    "## ExtraTree regression"
   ]
  },
  {
   "cell_type": "code",
   "execution_count": 51,
   "metadata": {},
   "outputs": [
    {
     "name": "stdout",
     "output_type": "stream",
     "text": [
      "SCORE1:\n",
      "r2:\n",
      "Best parameters set found on development set:\n",
      "{}\n",
      "Best score on development set:\n",
      "0.32320487265481584\n",
      "\n",
      "\n",
      "SCORE2:\n",
      "mean_squared_error: 132.7188940092166\n",
      "mean_absolute_error: 4.423963133640553\n",
      "r2_score: 0.4101351171989063\n"
     ]
    }
   ],
   "source": [
    "#pca = RandomizedPCA(n_components=70,copy=True, iterated_power=3, whiten=True, random_state=42) \n",
    "ET = tree.ExtraTreeRegressor()\n",
    "model=Pipeline(steps=[('Normal',Normal),('ET',ET)])#('Scale',Scale),('Normal',Normal),\n",
    "\n",
    "tuned_parameters = [{\n",
    "                     #'pca__n_components': [30,70,140,500],     \n",
    "                     #'lr__n_jobs': [1,2,None]\n",
    "                     }]  \n",
    "\n",
    "scores = ['r2']#'precision', 'recall','f1'\n",
    "\n",
    "print(\"SCORE1:\")\n",
    "for score in scores:\n",
    "    print(\"%s:\" % score)\n",
    "    clf = GridSearchCV(model, tuned_parameters, cv=CV,scoring='%s' % score)#SVC(kernel='rbf') #_weighted \n",
    "    clf.fit(train_feature, train_label)  \n",
    "    print(\"Best parameters set found on development set:\")\n",
    "    print(clf.best_params_)\n",
    "    print(\"Best score on development set:\")\n",
    "    print(clf.best_score_)\n",
    "\n",
    "print(\"\\n\")\n",
    "print(\"SCORE2:\")\n",
    "\n",
    "y_true, y_pred = test_label, clf.predict(test_feature)\n",
    "print('mean_squared_error:',mean_squared_error(y_true,y_pred))\n",
    "print('mean_absolute_error:',mean_absolute_error(y_true,y_pred))\n",
    "#print('median_absolute_error:',median_absolute_error(y_true,y_pred))\n",
    "#print('explained_variance_score:',explained_variance_score(y_true,y_pred))\n",
    "print('r2_score:',r2_score(y_true,y_pred))"
   ]
  },
  {
   "cell_type": "markdown",
   "metadata": {},
   "source": [
    "## KNN regression"
   ]
  },
  {
   "cell_type": "code",
   "execution_count": 14,
   "metadata": {},
   "outputs": [
    {
     "name": "stdout",
     "output_type": "stream",
     "text": [
      "SCORE1:\n",
      "r2:\n",
      "Best parameters set found on development set:\n",
      "{}\n",
      "Best score on development set:\n",
      "0.9164294521292834\n",
      "\n",
      "\n",
      "SCORE2:\n",
      "mean_squared_error: 41.91150442477876\n",
      "mean_absolute_error: 1.2743362831858407\n",
      "r2_score: 0.9533403082932274\n"
     ]
    }
   ],
   "source": [
    "#pca = RandomizedPCA(n_components=70,copy=True, iterated_power=3, whiten=True, random_state=42) \n",
    "knn = neighbors.KNeighborsRegressor()\n",
    "model=Pipeline(steps=[('knn',knn)])#('Scale',Scale),('Normal',Normal),\n",
    "\n",
    "tuned_parameters = [{\n",
    "                     #'pca__n_components': [30,70,140,500],     \n",
    "                     #'lr__n_jobs': [1,2,None]\n",
    "                     }]  \n",
    "\n",
    "scores = ['r2']#'precision', 'recall','f1'\n",
    "\n",
    "print(\"SCORE1:\")\n",
    "for score in scores:\n",
    "    print(\"%s:\" % score)\n",
    "    clf = GridSearchCV(model, tuned_parameters, cv=CV,scoring='%s' % score)#SVC(kernel='rbf') #_weighted \n",
    "    clf.fit(train_feature, train_label)  \n",
    "    print(\"Best parameters set found on development set:\")\n",
    "    print(clf.best_params_)\n",
    "    print(\"Best score on development set:\")\n",
    "    print(clf.best_score_)\n",
    "\n",
    "print(\"\\n\")\n",
    "print(\"SCORE2:\")\n",
    "\n",
    "y_true, y_pred = test_label, clf.predict(test_feature)\n",
    "print('mean_squared_error:',mean_squared_error(y_true,y_pred))\n",
    "print('mean_absolute_error:',mean_absolute_error(y_true,y_pred))\n",
    "#print('median_absolute_error:',median_absolute_error(y_true,y_pred))\n",
    "#print('explained_variance_score:',explained_variance_score(y_true,y_pred))\n",
    "print('r2_score:',r2_score(y_true,y_pred))"
   ]
  },
  {
   "cell_type": "markdown",
   "metadata": {},
   "source": [
    "### SVR Regression"
   ]
  },
  {
   "cell_type": "code",
   "execution_count": 17,
   "metadata": {},
   "outputs": [
    {
     "name": "stdout",
     "output_type": "stream",
     "text": [
      "SCORE1:\n",
      "r2:\n",
      "Best parameters set found on development set:\n",
      "{'svr__degree': 3, 'svr__gamma': 10}\n",
      "Best score on development set:\n",
      "0.813192296605104\n",
      "\n",
      "\n",
      "SCORE2:\n",
      "mean_squared_error: 143.43353239152228\n",
      "mean_absolute_error: 5.289542892081065\n",
      "r2_score: 0.8403167699739007\n"
     ]
    }
   ],
   "source": [
    "#SVR\n",
    "\n",
    "#pca = RandomizedPCA(n_components=70,copy=True, iterated_power=3, whiten=True, random_state=42) \n",
    "svr = SVR(kernel='rbf', degree=3, gamma=0.001, coef0=0.0, tol=0.001, C=60.0, epsilon=1, shrinking=True, cache_size=200, verbose=False, max_iter=-1)\n",
    "model=Pipeline(steps=[('Scale',Scale),('Normal',Normal),('svr',svr)])#('Scale',Scale),('Normal',Normal),\n",
    "\n",
    "tuned_parameters = [{          \n",
    "                     'svr__degree': [3,10,20],\n",
    "                     'svr__gamma': [0.1,1,10]\n",
    "                     }]  \n",
    "\n",
    "scores = ['r2']#'precision', 'recall','f1'\n",
    "\n",
    "print(\"SCORE1:\")\n",
    "for score in scores:\n",
    "    print(\"%s:\" % score)\n",
    "    clf = GridSearchCV(model, tuned_parameters, cv=CV,scoring='%s' % score)#SVC(kernel='rbf') #_weighted \n",
    "    clf.fit(train_feature, train_label) \n",
    "    print(\"Best parameters set found on development set:\")\n",
    "    print(clf.best_params_)\n",
    "    print(\"Best score on development set:\")\n",
    "    print(clf.best_score_)\n",
    "\n",
    "print(\"\\n\")\n",
    "print(\"SCORE2:\")\n",
    "\n",
    "y_true, y_pred = test_label, clf.predict(test_feature)\n",
    "print('mean_squared_error:',mean_squared_error(y_true,y_pred))\n",
    "print('mean_absolute_error:',mean_absolute_error(y_true,y_pred))\n",
    "#print('median_absolute_error:',median_absolute_error(y_true,y_pred))\n",
    "#print('explained_variance_score:',explained_variance_score(y_true,y_pred))\n",
    "print('r2_score:',r2_score(y_true,y_pred))"
   ]
  },
  {
   "cell_type": "code",
   "execution_count": 18,
   "metadata": {},
   "outputs": [],
   "source": [
    "import pickle\n",
    "with open('D:/program/python/Dlib/photo_100/data_analysis/model/distance.pickle', 'wb') as f:\n",
    "    pickle.dump(clf, f)"
   ]
  },
  {
   "cell_type": "code",
   "execution_count": 26,
   "metadata": {},
   "outputs": [
    {
     "data": {
      "text/plain": [
       "\"\\nwith open('D:/program/python/Dlib/photo_100/data_analysis/distance.pickle', 'rb') as f:\\n    clf2 = pickle.load(f)\\n    #测试读取后的Model\\nprint(clf2.predict(test_feature))\\n\""
      ]
     },
     "execution_count": 26,
     "metadata": {},
     "output_type": "execute_result"
    }
   ],
   "source": [
    "'''\n",
    "with open('D:/program/python/Dlib/photo_100/data_analysis/distance.pickle', 'rb') as f:\n",
    "    clf2 = pickle.load(f)\n",
    "    #测试读取后的Model\n",
    "print(clf2.predict(test_feature))\n",
    "'''"
   ]
  },
  {
   "cell_type": "markdown",
   "metadata": {},
   "source": [
    "## 人臉辨識 & 距離回歸"
   ]
  },
  {
   "cell_type": "code",
   "execution_count": null,
   "metadata": {},
   "outputs": [],
   "source": [
    "#及時測試 可兩人以上\n",
    "\n",
    "import dlib                     \n",
    "import numpy as np              \n",
    "import cv2                      \n",
    "from keras.models import load_model\n",
    "import pickle\n",
    "\n",
    "class face_emotion():\n",
    "    \n",
    "    \n",
    "    def __init__(self):\n",
    "        \n",
    "        self.detector = dlib.get_frontal_face_detector()       \n",
    "        self.predictor = dlib.shape_predictor(\"D:/program/python/Dlib/opencv-master/data/haarcascades/shape_predictor_68_face_landmarks.dat\")        \n",
    "        self.cap = cv2.VideoCapture(0)       \n",
    "        self.cap.set(3, 480)      \n",
    "        self.cnt = 0\n",
    "    def learning_face(self):\n",
    "        count=0\n",
    "        while(self.cap.isOpened()):\n",
    "            flag, im_rd = self.cap.read()\n",
    "            k = cv2.waitKey(1)      \n",
    "            img_gray = cv2.cvtColor(im_rd, cv2.COLOR_RGB2GRAY) #灰階      \n",
    "            faces = self.detector(img_gray, 0) \n",
    "            font = cv2.FONT_HERSHEY_SIMPLEX\n",
    "\n",
    "            if(len(faces)!=0):          \n",
    "                cv2.imwrite(\"D:/program/python/Dlib/photo_100/face_predict/face/face0.jpg\", img_gray) #img_gray im_rdㄒ \n",
    "                img = cv2.imread(\"D:/program/python/Dlib/photo_100/face_predict/face/face0.jpg\")    \n",
    "                face_rects = self.detector(img, 0)\n",
    "                #for f in range(len(face_rects)):\n",
    "                people_face = 0\n",
    "                for i, d in enumerate(face_rects):\n",
    "                    distance=[]\n",
    "\n",
    "                    img_ = img[d.top():d.bottom(),d.left():d.right()]\n",
    "                    distance.append(str(d.right() - d.left())) #此人臉的寬度\n",
    "                    distance.append(str(d.bottom() - d.top()))\n",
    "                    img2 = cv2.resize(img_, (125,125), interpolation=cv2.INTER_CUBIC) \n",
    "                    cv2.imwrite(\"D:/program/python/Dlib/photo_100/face_predict/face_cut/face_cut\"+str(people_face)+\".jpg\", img2)\n",
    "                    img_face = cv2.imread(\"D:/program/python/Dlib/photo_100/face_predict/face_cut/face_cut\"+str(people_face)+\".jpg\")\n",
    "                    shape = self.predictor(im_rd, d)\n",
    "\n",
    "                    for point in range(68):\n",
    "                        #cv2.circle(im_rd, (shape.part(point).x, shape.part(point).y), 2, (0, 255, 0), -1, 8)\n",
    "                        distance.append(str(shape.part(point).y -d.top() ))\n",
    "                        distance.append(str(shape.part(point).x -d.left()))\n",
    "                    #return distance\n",
    "                    D=[]\n",
    "                    D.append(distance)\n",
    "                    D.append(distance)\n",
    "                    dis_ans=distance_model.predict(D)\n",
    "                    test2=str(dis_ans[0])\n",
    "\n",
    "                    train=[]\n",
    "                    for i in range(2):#多一個當標題\n",
    "                        train.append([])                                        \n",
    "                    train[0]=img_face\n",
    "                    train[1]=img_face\n",
    "                    X_train=np.array(train)\n",
    "                    x_Train4D=X_train.reshape(X_train.shape[0],125,125,3).astype('float32')\n",
    "                    x_Train4D=np.delete(x_Train4D, [1,2], axis=3)\n",
    "                    x_Test4D_normalize=x_Train4D/ 255\n",
    "                    ans=model.predict_classes(x_Test4D_normalize)\n",
    "                    text=str(ans[0])\n",
    "\n",
    "                    if(text=='0'):\n",
    "                        text='phchen'\n",
    "                    if(text=='1'):\n",
    "                        text='jeff'\n",
    "\n",
    "                    im_rd = cv2.putText(im_rd, text+' '+test2, (d.left(), d.top()), font, 0.8, (0, 0, 255), 1, cv2.LINE_AA)\n",
    "                    people_face+=1\n",
    "            else:\n",
    "\n",
    "                cv2.putText(im_rd, \"No Face\", (20, 50), font, 1, (0, 0, 255), 1, cv2.LINE_AA)\n",
    "            #im_rd = cv2.putText(im_rd, \"S: screenshot\", (20, 400), font, 0.8, (0, 0, 255), 1, cv2.LINE_AA)\n",
    "            #im_rd = cv2.putText(im_rd, \"Q: quit\", (20, 450), font, 0.8, (0, 0, 255), 1, cv2.LINE_AA)     \n",
    "            cv2.imshow(\"camera\", im_rd)  \n",
    "\n",
    "        self.cap.release()\n",
    "        cv2.destroyAllWindows()\n",
    "\n",
    "\n",
    "if __name__ == \"__main__\":\n",
    "    model= load_model('D:/program/python/Dlib/photo_100/data_analysis/model/data_analysis_face_recognize.h5')\n",
    "    with open('D:/program/python/Dlib/photo_100/data_analysis/model/distance.pickle', 'rb') as f:\n",
    "        distance_model = pickle.load(f)\n",
    "    my_face = face_emotion()\n",
    "    my_face.learning_face()"
   ]
  },
  {
   "cell_type": "markdown",
   "metadata": {},
   "source": [
    "## 文字 情緒 NER"
   ]
  },
  {
   "cell_type": "markdown",
   "metadata": {},
   "source": [
    "### 計算訓練資料的字句最大字數"
   ]
  },
  {
   "cell_type": "code",
   "execution_count": 4,
   "metadata": {},
   "outputs": [
    {
     "name": "stdout",
     "output_type": "stream",
     "text": [
      "max_len  128\n",
      "nb_words  115354\n"
     ]
    }
   ],
   "source": [
    "from keras.layers.core import Activation, Dense\n",
    "from keras.layers.embeddings import Embedding\n",
    "from keras.layers.recurrent import LSTM\n",
    "from keras.layers import GRU,SimpleRNN, Activation, Dense,Bidirectional\n",
    "from keras.models import Sequential\n",
    "from keras.preprocessing import sequence\n",
    "from sklearn.model_selection import train_test_split\n",
    "import collections\n",
    "import nltk\n",
    "import numpy as np\n",
    "from keras.models import load_model\n",
    "from sklearn.metrics import classification_report\n",
    "\n",
    "maxlen = 0\n",
    "word_freqs = collections.Counter()\n",
    "num_recs = 0\n",
    "with open('D:/program/python/Dlib/photo_100/data_analysis/train_mood.txt','r+', encoding='UTF-8') as f: #影評 NLTK Sentiment1_training   train_mood\n",
    "    for line in f:\n",
    "        #print(line)\n",
    "        label, sentence = line.strip().split(\"\\t\")\n",
    "        words = nltk.word_tokenize(sentence.lower())\n",
    "        if len(words) > maxlen:\n",
    "            maxlen = len(words)\n",
    "        for word in words:\n",
    "            word_freqs[word] += 1\n",
    "        num_recs += 1\n",
    "print('max_len ',maxlen)\n",
    "print('nb_words ', len(word_freqs))"
   ]
  },
  {
   "cell_type": "markdown",
   "metadata": {},
   "source": [
    "### 準備數據 onehot encoding"
   ]
  },
  {
   "cell_type": "code",
   "execution_count": 5,
   "metadata": {},
   "outputs": [],
   "source": [
    "## 準備數據\n",
    "MAX_FEATURES = 2000\n",
    "MAX_SENTENCE_LENGTH = 40\n",
    "vocab_size = min(MAX_FEATURES, len(word_freqs)) + 2\n",
    "word_index = {x[0]: i+2 for i, x in enumerate(word_freqs.most_common(MAX_FEATURES))}\n",
    "word_index[\"PAD\"] = 0\n",
    "word_index[\"UNK\"] = 1\n",
    "index2word = {v:k for k, v in word_index.items()}\n",
    "X = np.empty(num_recs,dtype=list)\n",
    "y = np.zeros(num_recs)\n",
    "i=0\n",
    "\n",
    "# 讀取訓練資料，將每一單字以 dictionary 儲存\n",
    "with open('D:/program/python/Dlib/photo_100/data_analysis/train_mood.txt','r+', encoding='UTF-8') as f: #Sentiment1_training.txt train_mood.txt\n",
    "    for line in f:\n",
    "        label, sentence = line.strip().split(\"\\t\")\n",
    "        words = nltk.word_tokenize(sentence.lower())\n",
    "        seqs = []\n",
    "        for word in words:\n",
    "            if word in word_index:\n",
    "                seqs.append(word_index[word])\n",
    "            else:\n",
    "                seqs.append(word_index[\"UNK\"])\n",
    "        X[i] = seqs\n",
    "        y[i] = int(label)\n",
    "        i += 1\n",
    "# 字句長度不足補空白        \n",
    "X = sequence.pad_sequences(X, maxlen=MAX_SENTENCE_LENGTH)"
   ]
  },
  {
   "cell_type": "code",
   "execution_count": 6,
   "metadata": {},
   "outputs": [],
   "source": [
    "# 資料劃分訓練組及測試組\n",
    "Xtrain, Xtest, ytrain, ytest = train_test_split(X, y, test_size=0.2, random_state=42)"
   ]
  },
  {
   "cell_type": "code",
   "execution_count": 7,
   "metadata": {},
   "outputs": [],
   "source": [
    "EMBEDDING_SIZE = 128\n",
    "HIDDEN_LAYER_SIZE = 64\n",
    "BATCH_SIZE = 32\n",
    "NUM_EPOCHS = 10"
   ]
  },
  {
   "cell_type": "markdown",
   "metadata": {},
   "source": [
    "### 實測副函式"
   ]
  },
  {
   "cell_type": "code",
   "execution_count": 8,
   "metadata": {},
   "outputs": [],
   "source": [
    "def mood(text,model_path):\n",
    "\n",
    "    Text1=input(text)\n",
    "    print(Text1,end='')\n",
    "\n",
    "    #print(\"\\n predict ......\")\n",
    "    model= load_model(model_path)\n",
    "\n",
    "    ## 探索數據分析(EDA)\n",
    "    # 計算訓練資料的字句最大字數\n",
    "    maxlen = 0\n",
    "    word_freqs = collections.Counter()\n",
    "    num_recs = 0\n",
    "    with open('D:/program/python/Dlib/photo_100/data_analysis/train_mood.txt','r+', encoding='UTF-8') as f:\n",
    "        for line in f:\n",
    "            label, sentence = line.strip().split(\"\\t\")\n",
    "            words = nltk.word_tokenize(sentence.lower())\n",
    "            if len(words) > maxlen:\n",
    "                maxlen = len(words)\n",
    "            for word in words:\n",
    "                word_freqs[word] += 1\n",
    "            num_recs += 1\n",
    "\n",
    "    ## 準備數據\n",
    "    MAX_FEATURES = 2000\n",
    "    MAX_SENTENCE_LENGTH = 40\n",
    "    vocab_size = min(MAX_FEATURES, len(word_freqs)) + 2\n",
    "    word_index = {x[0]: i+2 for i, x in enumerate(word_freqs.most_common(MAX_FEATURES))}\n",
    "    word_index[\"PAD\"] = 0\n",
    "    word_index[\"UNK\"] = 1\n",
    "    index2word = {v:k for k, v in word_index.items()}\n",
    "    X = np.empty(num_recs,dtype=list)\n",
    "    y = np.zeros(num_recs)\n",
    "    i=0\n",
    "    # 讀取訓練資料，將每一單字以 dictionary 儲存\n",
    "    with open('./Sentiment1_training.txt','r+', encoding='UTF-8') as f:\n",
    "        for line in f:\n",
    "            label, sentence = line.strip().split(\"\\t\")\n",
    "            words = nltk.word_tokenize(sentence.lower())\n",
    "            seqs = []\n",
    "            for word in words:\n",
    "                if word in word_index:\n",
    "                    seqs.append(word_index[word])\n",
    "                else:\n",
    "                    seqs.append(word_index[\"UNK\"])\n",
    "            X[i] = seqs\n",
    "            y[i] = int(label)\n",
    "            i += 1\n",
    "\n",
    "    # 字句長度不足補空白        \n",
    "    X = sequence.pad_sequences(X, maxlen=MAX_SENTENCE_LENGTH)\n",
    "\n",
    "\n",
    "    INPUT_SENTENCES = [Text1]# ,Text2,Text3\n",
    "    XX = np.empty(len(INPUT_SENTENCES),dtype=list)\n",
    "    # 轉換文字為數值\n",
    "    i=0\n",
    "    for sentence in  INPUT_SENTENCES:\n",
    "        words = nltk.word_tokenize(sentence.lower())\n",
    "        seq = []\n",
    "        for word in words:\n",
    "            if word in word_index:\n",
    "                seq.append(word_index[word])\n",
    "            else:\n",
    "                seq.append(word_index['UNK'])\n",
    "        XX[i] = seq\n",
    "        i+=1\n",
    "\n",
    "    XX = sequence.pad_sequences(XX, maxlen=MAX_SENTENCE_LENGTH)\n",
    "    # 預測，並將結果四捨五入，轉換為 0 或 1\n",
    "    labels = [int(round(x[0])) for x in model.predict(XX) ]\n",
    "    label2word = {1:'正面', 0:'負面'}\n",
    "    # 顯示結果\n",
    "\n",
    "    #print(\"\\n以下分析剛剛對話情緒:\")\n",
    "\n",
    "    for i in range(len(INPUT_SENTENCES)):\n",
    "        print('  '+label2word[labels[i]]) #, INPUT_SENTENCES[i]"
   ]
  },
  {
   "cell_type": "markdown",
   "metadata": {},
   "source": [
    "### RNN"
   ]
  },
  {
   "cell_type": "code",
   "execution_count": null,
   "metadata": {},
   "outputs": [],
   "source": [
    "# 模型構建\n",
    "\n",
    "model = Sequential()\n",
    "# 加『嵌入』層\n",
    "model.add(Embedding(vocab_size, EMBEDDING_SIZE,input_length=MAX_SENTENCE_LENGTH))\n",
    "# 加『LSTM』層\n",
    "model.add(SimpleRNN(batch_input_shape=(None, word_freqs), units= 50,unroll=True,)) \n",
    "model.add(Dense(1))\n",
    "model.add(Activation(\"sigmoid\"))\n",
    "# binary_crossentropy:二分法\n",
    "model.compile(loss=\"binary_crossentropy\", optimizer=\"adam\",metrics=[\"accuracy\"])\n",
    "\n",
    "# 模型訓練\n",
    "model.fit(Xtrain, ytrain, batch_size=BATCH_SIZE, epochs=NUM_EPOCHS,validation_data=(Xtest, ytest))\n",
    "\n",
    "# 預測\n",
    "score, acc = model.evaluate(Xtest, ytest, batch_size=BATCH_SIZE)\n",
    "predictions = model.predict_classes(Xtest)\n",
    "\n",
    "print(\"\\n accuracy: %.3f\" % (acc))\n",
    "print()\n",
    "print(classification_report(ytest, predictions))\n",
    "\n",
    "print('{}   {}      {}'.format('預測','真實','句子'))\n",
    "for i in range(5):\n",
    "    idx = np.random.randint(len(Xtest))\n",
    "    xtest = Xtest[idx].reshape(1,MAX_SENTENCE_LENGTH)\n",
    "    ylabel = ytest[idx]\n",
    "    ypred = model.predict(xtest)[0][0]\n",
    "    sent = \" \".join([index2word[x] for x in xtest[0] if x != 0])\n",
    "    print(' {}      {}     {}'.format(int(round(ypred)), int(ylabel), sent))\n",
    "    \n",
    "\n",
    "model.save(\"D:/program/python/Dlib/photo_100/data_analysis/model/word_mood_RNN_twitter.h5\") "
   ]
  },
  {
   "cell_type": "code",
   "execution_count": 11,
   "metadata": {},
   "outputs": [
    {
     "name": "stdout",
     "output_type": "stream",
     "text": [
      "\n",
      " accuracy: 0.728\n",
      "\n",
      "              precision    recall  f1-score   support\n",
      "\n",
      "         0.0       0.68      0.72      0.70      8571\n",
      "         1.0       0.77      0.74      0.75     11032\n",
      "\n",
      "   micro avg       0.73      0.73      0.73     19603\n",
      "   macro avg       0.73      0.73      0.73     19603\n",
      "weighted avg       0.73      0.73      0.73     19603\n",
      "\n",
      "預測   真實      句子\n",
      " 1      1     @ UNK omg that sounds UNK !\n",
      " 0      0     @ the office UNK ice cream\n",
      " 1      1     @ UNK i UNK it n it works lol UNK woot ! ! ok so its going to take sum time to get use to it http : UNK\n",
      " 1      0     # i am really # bored # so i decided to do some # UNK UNK . # it # is # fun but not there 's not as # UNK as # UNK ... # UNK\n",
      " 1      1     @ UNK cause it is cute and pretty and UNK !\n"
     ]
    }
   ],
   "source": [
    "print(\"\\n accuracy: %.3f\" % (acc))\n",
    "print()\n",
    "print(classification_report(ytest, predictions))\n",
    "\n",
    "print('{}   {}      {}'.format('預測','真實','句子'))\n",
    "for i in range(5):\n",
    "    idx = np.random.randint(len(Xtest))\n",
    "    xtest = Xtest[idx].reshape(1,MAX_SENTENCE_LENGTH)\n",
    "    ylabel = ytest[idx]\n",
    "    ypred = model.predict(xtest)[0][0]\n",
    "    sent = \" \".join([index2word[x] for x in xtest[0] if x != 0])\n",
    "    print(' {}      {}     {}'.format(int(round(ypred)), int(ylabel), sent))\n",
    "    \n",
    "\n",
    "model.save(\"D:/program/python/Dlib/photo_100/data_analysis/model/word_mood_RNN_twitter.h5\")"
   ]
  },
  {
   "cell_type": "code",
   "execution_count": 36,
   "metadata": {},
   "outputs": [
    {
     "name": "stdin",
     "output_type": "stream",
     "text": [
      "how r u i am great\n"
     ]
    },
    {
     "name": "stdout",
     "output_type": "stream",
     "text": [
      "i am great  負面\n"
     ]
    }
   ],
   "source": [
    "mood(\"how r u\",\"D:/program/python/Dlib/photo_100/data_analysis/model/word_mood_RNN_twitter.h5\")"
   ]
  },
  {
   "cell_type": "code",
   "execution_count": null,
   "metadata": {},
   "outputs": [],
   "source": [
    "mood(\"how r u\",\"D:/program/python/Dlib/photo_100/data_analysis/model/word_mood_RNN_NLTK.h5\")"
   ]
  },
  {
   "cell_type": "markdown",
   "metadata": {},
   "source": [
    "### GRU"
   ]
  },
  {
   "cell_type": "code",
   "execution_count": 16,
   "metadata": {},
   "outputs": [
    {
     "name": "stdout",
     "output_type": "stream",
     "text": [
      "Train on 5668 samples, validate on 1418 samples\n",
      "Epoch 1/10\n",
      "5668/5668 [==============================] - 8s 1ms/step - loss: 0.1939 - acc: 0.9199 - val_loss: 0.0603 - val_acc: 0.9781\n",
      "Epoch 2/10\n",
      "5668/5668 [==============================] - 3s 511us/step - loss: 0.0155 - acc: 0.9959 - val_loss: 0.0466 - val_acc: 0.9859\n",
      "Epoch 3/10\n",
      "5668/5668 [==============================] - 4s 657us/step - loss: 0.0055 - acc: 0.9989 - val_loss: 0.0508 - val_acc: 0.9880\n",
      "Epoch 4/10\n",
      "5668/5668 [==============================] - 4s 652us/step - loss: 0.0036 - acc: 0.9996 - val_loss: 0.0444 - val_acc: 0.9894\n",
      "Epoch 5/10\n",
      "5668/5668 [==============================] - 4s 652us/step - loss: 0.0019 - acc: 0.9998 - val_loss: 0.0496 - val_acc: 0.9887\n",
      "Epoch 6/10\n",
      "5668/5668 [==============================] - 4s 680us/step - loss: 0.0033 - acc: 0.9995 - val_loss: 0.0589 - val_acc: 0.9901\n",
      "Epoch 7/10\n",
      "5668/5668 [==============================] - 4s 662us/step - loss: 0.0063 - acc: 0.9986 - val_loss: 0.0617 - val_acc: 0.9852\n",
      "Epoch 8/10\n",
      "5668/5668 [==============================] - 4s 669us/step - loss: 0.0032 - acc: 0.9993 - val_loss: 0.0540 - val_acc: 0.9831\n",
      "Epoch 9/10\n",
      "5668/5668 [==============================] - 4s 669us/step - loss: 0.0023 - acc: 0.9996 - val_loss: 0.0480 - val_acc: 0.9873\n",
      "Epoch 10/10\n",
      "5668/5668 [==============================] - 4s 661us/step - loss: 8.9362e-04 - acc: 0.9998 - val_loss: 0.0512 - val_acc: 0.9880\n",
      "1418/1418 [==============================] - 0s 117us/step\n",
      "\n",
      " accuracy: 0.988\n",
      "\n",
      "              precision    recall  f1-score   support\n",
      "\n",
      "         0.0       0.99      0.98      0.99       626\n",
      "         1.0       0.99      0.99      0.99       792\n",
      "\n",
      "   micro avg       0.99      0.99      0.99      1418\n",
      "   macro avg       0.99      0.99      0.99      1418\n",
      "weighted avg       0.99      0.99      0.99      1418\n",
      "\n",
      " 0      0     oh , and brokeback mountain is a terrible movie ...\n",
      " 0      0     i hate harry potter even more now . > :\n",
      " 1      1     i love kirsten / leah / kate escapades and mission impossible tom as well ...\n",
      " 0      0     then snuck into brokeback mountain , which is the most depressing movie i have ever seen..\n",
      " 1      1     i love the da vinci code ...\n"
     ]
    }
   ],
   "source": [
    "# 模型構建\n",
    "\n",
    "model = Sequential()\n",
    "# 加『嵌入』層\n",
    "model.add(Embedding(vocab_size, EMBEDDING_SIZE,input_length=MAX_SENTENCE_LENGTH))\n",
    "# 加『LSTM』層\n",
    "model.add(GRU(batch_input_shape=(None, word_freqs), units= 50,unroll=True,)) \n",
    "model.add(Dense(1))\n",
    "model.add(Activation(\"sigmoid\"))\n",
    "# binary_crossentropy:二分法\n",
    "model.compile(loss=\"binary_crossentropy\", optimizer=\"adam\",metrics=[\"accuracy\"])\n",
    "\n",
    "# 模型訓練\n",
    "model.fit(Xtrain, ytrain, batch_size=BATCH_SIZE, epochs=NUM_EPOCHS,validation_data=(Xtest, ytest))\n",
    "\n",
    "# 預測\n",
    "score, acc = model.evaluate(Xtest, ytest, batch_size=BATCH_SIZE)\n",
    "predictions = model.predict_classes(Xtest)\n",
    "\n",
    "print(\"\\n accuracy: %.3f\" % ( acc))\n",
    "print()\n",
    "print(classification_report(ytest, predictions))\n",
    "for i in range(5):\n",
    "    idx = np.random.randint(len(Xtest))\n",
    "    xtest = Xtest[idx].reshape(1,MAX_SENTENCE_LENGTH)\n",
    "    ylabel = ytest[idx]\n",
    "    ypred = model.predict(xtest)[0][0]\n",
    "    sent = \" \".join([index2word[x] for x in xtest[0] if x != 0])\n",
    "    print(' {}      {}     {}'.format(int(round(ypred)), int(ylabel), sent))\n",
    "    \n",
    "\n",
    "model.save(\"D:/program/python/Dlib/photo_100/data_analysis/model/word_mood_GRU_twitter.h5\") "
   ]
  },
  {
   "cell_type": "code",
   "execution_count": null,
   "metadata": {},
   "outputs": [],
   "source": [
    "mood(\"how r u\",\"D:/program/python/Dlib/photo_100/data_analysis/model/word_mood_GRU_twitter.h5\")"
   ]
  },
  {
   "cell_type": "code",
   "execution_count": null,
   "metadata": {},
   "outputs": [],
   "source": [
    "mood(\"how r u\",\"D:/program/python/Dlib/photo_100/data_analysis/model/word_mood_GRU_NLTK.h5\")"
   ]
  },
  {
   "cell_type": "markdown",
   "metadata": {},
   "source": [
    "### LSTM"
   ]
  },
  {
   "cell_type": "code",
   "execution_count": 17,
   "metadata": {},
   "outputs": [
    {
     "name": "stdout",
     "output_type": "stream",
     "text": [
      "WARNING:tensorflow:From C:\\Users\\jeffh\\Anaconda3\\envs\\Tensorflow\\lib\\site-packages\\keras\\backend\\tensorflow_backend.py:3445: calling dropout (from tensorflow.python.ops.nn_ops) with keep_prob is deprecated and will be removed in a future version.\n",
      "Instructions for updating:\n",
      "Please use `rate` instead of `keep_prob`. Rate should be set to `rate = 1 - keep_prob`.\n",
      "Train on 5668 samples, validate on 1418 samples\n",
      "Epoch 1/10\n",
      "5668/5668 [==============================] - 9s 2ms/step - loss: 0.2317 - acc: 0.8977 - val_loss: 0.0579 - val_acc: 0.9781\n",
      "Epoch 2/10\n",
      "5668/5668 [==============================] - 7s 1ms/step - loss: 0.0183 - acc: 0.9958 - val_loss: 0.0555 - val_acc: 0.9859\n",
      "Epoch 3/10\n",
      "5668/5668 [==============================] - 7s 1ms/step - loss: 0.0126 - acc: 0.9963 - val_loss: 0.0461 - val_acc: 0.9880\n",
      "Epoch 4/10\n",
      "5668/5668 [==============================] - 7s 1ms/step - loss: 0.0037 - acc: 0.9991 - val_loss: 0.0626 - val_acc: 0.9880\n",
      "Epoch 5/10\n",
      "5668/5668 [==============================] - 7s 1ms/step - loss: 0.0041 - acc: 0.9995 - val_loss: 0.0503 - val_acc: 0.9887\n",
      "Epoch 6/10\n",
      "5668/5668 [==============================] - 7s 1ms/step - loss: 0.0011 - acc: 0.9996 - val_loss: 0.0531 - val_acc: 0.9873\n",
      "Epoch 7/10\n",
      "5668/5668 [==============================] - 7s 1ms/step - loss: 0.0020 - acc: 0.9996 - val_loss: 0.0508 - val_acc: 0.9908\n",
      "Epoch 8/10\n",
      "5668/5668 [==============================] - 7s 1ms/step - loss: 0.0023 - acc: 0.9995 - val_loss: 0.0583 - val_acc: 0.9894\n",
      "Epoch 9/10\n",
      "5668/5668 [==============================] - 7s 1ms/step - loss: 0.0011 - acc: 0.9996 - val_loss: 0.0603 - val_acc: 0.9887\n",
      "Epoch 10/10\n",
      "5668/5668 [==============================] - 7s 1ms/step - loss: 8.2327e-04 - acc: 0.9998 - val_loss: 0.0574 - val_acc: 0.9887\n",
      "1418/1418 [==============================] - 0s 224us/step\n",
      "\n",
      " accuracy: 0.989\n",
      "\n",
      "              precision    recall  f1-score   support\n",
      "\n",
      "         0.0       0.99      0.99      0.99       626\n",
      "         1.0       0.99      0.99      0.99       792\n",
      "\n",
      "   micro avg       0.99      0.99      0.99      1418\n",
      "   macro avg       0.99      0.99      0.99      1418\n",
      "weighted avg       0.99      0.99      0.99      1418\n",
      "\n",
      " 1      1     he 's like , 'yeah i got acne and i love brokeback mountain '..\n",
      " 1      1     dudeee i loved brokeback mountain ! ! ! !\n",
      " 0      0     i hate harry potter .\n",
      " 1      1     i love brokeback mountain .\n",
      " 1      1     anyway , thats why i love `` brokeback mountain .\n"
     ]
    }
   ],
   "source": [
    "# 模型構建\n",
    "\n",
    "model = Sequential()\n",
    "# 加『嵌入』層\n",
    "model.add(Embedding(vocab_size, EMBEDDING_SIZE,input_length=MAX_SENTENCE_LENGTH))\n",
    "# 加『LSTM』層\n",
    "model.add(LSTM(HIDDEN_LAYER_SIZE, dropout=0.2, recurrent_dropout=0.2))\n",
    "model.add(Dense(1))\n",
    "model.add(Activation(\"sigmoid\"))\n",
    "# binary_crossentropy:二分法\n",
    "model.compile(loss=\"binary_crossentropy\", optimizer=\"adam\",metrics=[\"accuracy\"])\n",
    "\n",
    "# 模型訓練\n",
    "model.fit(Xtrain, ytrain, batch_size=BATCH_SIZE, epochs=NUM_EPOCHS,validation_data=(Xtest, ytest))\n",
    "\n",
    "# 預測\n",
    "score, acc = model.evaluate(Xtest, ytest, batch_size=BATCH_SIZE)\n",
    "predictions = model.predict_classes(Xtest)\n",
    "\n",
    "print(\"\\n accuracy: %.3f\" % (acc))\n",
    "print()\n",
    "print(classification_report(ytest, predictions))\n",
    "for i in range(5):\n",
    "    idx = np.random.randint(len(Xtest))\n",
    "    xtest = Xtest[idx].reshape(1,MAX_SENTENCE_LENGTH)\n",
    "    ylabel = ytest[idx]\n",
    "    ypred = model.predict(xtest)[0][0]\n",
    "    sent = \" \".join([index2word[x] for x in xtest[0] if x != 0])\n",
    "    print(' {}      {}     {}'.format(int(round(ypred)), int(ylabel), sent))\n",
    "    \n",
    "\n",
    "model.save(\"D:/program/python/Dlib/photo_100/data_analysis/model/word_mood_LSTM_twitter.h5\") "
   ]
  },
  {
   "cell_type": "code",
   "execution_count": null,
   "metadata": {},
   "outputs": [],
   "source": [
    "mood(\"how r u\",\"D:/program/python/Dlib/photo_100/data_analysis/model/word_mood_LSTM_twitter.h5\")"
   ]
  },
  {
   "cell_type": "code",
   "execution_count": null,
   "metadata": {},
   "outputs": [],
   "source": [
    "mood(\"how r u\",\"D:/program/python/Dlib/photo_100/data_analysis/model/word_mood_LSTM_NLTK.h5\")"
   ]
  },
  {
   "cell_type": "markdown",
   "metadata": {},
   "source": [
    "### BILSTM"
   ]
  },
  {
   "cell_type": "code",
   "execution_count": 18,
   "metadata": {},
   "outputs": [
    {
     "name": "stdout",
     "output_type": "stream",
     "text": [
      "Train on 5668 samples, validate on 1418 samples\n",
      "Epoch 1/10\n",
      "5668/5668 [==============================] - 14s 2ms/step - loss: 0.2284 - acc: 0.8993 - val_loss: 0.0625 - val_acc: 0.9788\n",
      "Epoch 2/10\n",
      "5668/5668 [==============================] - 10s 2ms/step - loss: 0.0243 - acc: 0.9931 - val_loss: 0.0493 - val_acc: 0.9866\n",
      "Epoch 3/10\n",
      "5668/5668 [==============================] - 10s 2ms/step - loss: 0.0094 - acc: 0.9975 - val_loss: 0.0530 - val_acc: 0.9852\n",
      "Epoch 4/10\n",
      "5668/5668 [==============================] - 10s 2ms/step - loss: 0.0043 - acc: 0.9991 - val_loss: 0.0572 - val_acc: 0.9887\n",
      "Epoch 5/10\n",
      "5668/5668 [==============================] - 10s 2ms/step - loss: 0.0052 - acc: 0.9986 - val_loss: 0.0819 - val_acc: 0.9788\n",
      "Epoch 6/10\n",
      "5668/5668 [==============================] - 11s 2ms/step - loss: 0.0045 - acc: 0.9993 - val_loss: 0.0805 - val_acc: 0.9859\n",
      "Epoch 7/10\n",
      "5668/5668 [==============================] - 12s 2ms/step - loss: 0.0020 - acc: 0.9996 - val_loss: 0.0911 - val_acc: 0.9859\n",
      "Epoch 8/10\n",
      "5668/5668 [==============================] - 11s 2ms/step - loss: 0.0011 - acc: 0.9998 - val_loss: 0.0822 - val_acc: 0.9852\n",
      "Epoch 9/10\n",
      "5668/5668 [==============================] - 11s 2ms/step - loss: 0.0016 - acc: 0.9996 - val_loss: 0.0899 - val_acc: 0.9852\n",
      "Epoch 10/10\n",
      "5668/5668 [==============================] - 11s 2ms/step - loss: 0.0011 - acc: 0.9998 - val_loss: 0.0904 - val_acc: 0.9845\n",
      "1418/1418 [==============================] - 1s 374us/step\n",
      "\n",
      " accuracy: 0.984\n",
      "\n",
      "              precision    recall  f1-score   support\n",
      "\n",
      "         0.0       0.99      0.98      0.98       626\n",
      "         1.0       0.98      0.99      0.99       792\n",
      "\n",
      "   micro avg       0.98      0.98      0.98      1418\n",
      "   macro avg       0.98      0.98      0.98      1418\n",
      "weighted avg       0.98      0.98      0.98      1418\n",
      "\n",
      " 0      0     is it just me , or does harry potter suck ? ...\n",
      " 1      1     i am going to start reading the harry potter series again because that is one awesome story .\n",
      " 1      1     i love brokeback mountain .\n",
      " 1      1     i either love brokeback mountain or think it 's great that homosexuality is becoming more acceptable ! :\n",
      " 0      0     da vinci code sucks .\n"
     ]
    }
   ],
   "source": [
    "# 模型構建\n",
    "\n",
    "model = Sequential()\n",
    "# 加『嵌入』層\n",
    "model.add(Embedding(vocab_size, EMBEDDING_SIZE,input_length=MAX_SENTENCE_LENGTH))\n",
    "# 加『LSTM』層\n",
    "model.add(Bidirectional(LSTM(HIDDEN_LAYER_SIZE, dropout=0.2, recurrent_dropout=0.2)))\n",
    "model.add(Dense(1))\n",
    "model.add(Activation(\"sigmoid\"))\n",
    "# binary_crossentropy:二分法\n",
    "model.compile(loss=\"binary_crossentropy\", optimizer=\"adam\",metrics=[\"accuracy\"])\n",
    "\n",
    "# 模型訓練\n",
    "model.fit(Xtrain, ytrain, batch_size=BATCH_SIZE, epochs=NUM_EPOCHS,validation_data=(Xtest, ytest))\n",
    "\n",
    "# 預測\n",
    "score, acc = model.evaluate(Xtest, ytest, batch_size=BATCH_SIZE)\n",
    "predictions = model.predict_classes(Xtest)\n",
    "\n",
    "print(\"\\n accuracy: %.3f\" % (acc))\n",
    "print()\n",
    "print(classification_report(ytest, predictions))\n",
    "for i in range(5):\n",
    "    idx = np.random.randint(len(Xtest))\n",
    "    xtest = Xtest[idx].reshape(1,MAX_SENTENCE_LENGTH)\n",
    "    ylabel = ytest[idx]\n",
    "    ypred = model.predict(xtest)[0][0]\n",
    "    sent = \" \".join([index2word[x] for x in xtest[0] if x != 0])\n",
    "    print(' {}      {}     {}'.format(int(round(ypred)), int(ylabel), sent))\n",
    "    \n",
    "\n",
    "model.save(\"D:/program/python/Dlib/photo_100/data_analysis/model/word_mood_BILSTM_twitter.h5\") "
   ]
  },
  {
   "cell_type": "code",
   "execution_count": null,
   "metadata": {},
   "outputs": [],
   "source": [
    "mood(\"how r u\",\"D:/program/python/Dlib/photo_100/data_analysis/model/word_mood_BILSTM_twitter.h5\")"
   ]
  },
  {
   "cell_type": "code",
   "execution_count": null,
   "metadata": {},
   "outputs": [],
   "source": [
    "mood(\"how r u\",\"D:/program/python/Dlib/photo_100/data_analysis/model/word_mood_BILSTM_NLTK.h5\")"
   ]
  },
  {
   "cell_type": "markdown",
   "metadata": {},
   "source": [
    "## 組合影像 聲音 文字"
   ]
  },
  {
   "cell_type": "code",
   "execution_count": 3,
   "metadata": {},
   "outputs": [
    {
     "name": "stdin",
     "output_type": "stream",
     "text": [
      "how are you today my day was really awesome\n"
     ]
    },
    {
     "name": "stdout",
     "output_type": "stream",
     "text": [
      "my day was really awesome  正面\n"
     ]
    },
    {
     "name": "stdin",
     "output_type": "stream",
     "text": [
      "how is your dinner today the dinner is fuckin terrible as shit\n"
     ]
    },
    {
     "name": "stdout",
     "output_type": "stream",
     "text": [
      "the dinner is fuckin terrible as shit  負面\n"
     ]
    },
    {
     "name": "stdin",
     "output_type": "stream",
     "text": [
      "how is the movie the movie sucked so bad  i hate it so much\n"
     ]
    },
    {
     "name": "stdout",
     "output_type": "stream",
     "text": [
      "the movie sucked so bad  i hate it so much  負面\n"
     ]
    }
   ],
   "source": [
    "import dlib                     \n",
    "import numpy as np              \n",
    "import cv2                      \n",
    "from keras.models import load_model\n",
    "import pickle\n",
    "import speech_recognition\n",
    "import time\n",
    "import os\n",
    "import wave\n",
    "import warnings\n",
    "import nltk\n",
    "import collections\n",
    "from keras.preprocessing import sequence\n",
    "import pyttsx3\n",
    "import pyaudio\n",
    "warnings.filterwarnings('ignore')\n",
    "\n",
    "class face_emotion():\n",
    "\n",
    "\n",
    "    def __init__(self):\n",
    "\n",
    "        self.detector = dlib.get_frontal_face_detector()       \n",
    "        self.predictor = dlib.shape_predictor(\"D:/program/python/Dlib/opencv-master/data/haarcascades/shape_predictor_68_face_landmarks.dat\")        \n",
    "        self.cap = cv2.VideoCapture(0)       \n",
    "        self.cap.set(3, 480)      \n",
    "        self.cnt = 0\n",
    "    def learning_face(self):\n",
    "        count=0\n",
    "        while(self.cap.isOpened()):\n",
    "            flag, im_rd = self.cap.read()\n",
    "            k = cv2.waitKey(1)      \n",
    "            img_gray = cv2.cvtColor(im_rd, cv2.COLOR_RGB2GRAY) #灰階      \n",
    "            faces = self.detector(img_gray, 0) \n",
    "            font = cv2.FONT_HERSHEY_SIMPLEX\n",
    "\n",
    "            if(len(faces)!=0):          \n",
    "                cv2.imwrite(\"D:/program/python/Dlib/photo_100/face_predict/face/face0.jpg\", img_gray) #img_gray im_rdㄒ \n",
    "                img = cv2.imread(\"D:/program/python/Dlib/photo_100/face_predict/face/face0.jpg\")    \n",
    "                face_rects = self.detector(img, 0)\n",
    "                #for f in range(len(face_rects)):\n",
    "                people_face = 0\n",
    "                for i, d in enumerate(face_rects):\n",
    "                    distance=[]\n",
    "                    test2=''\n",
    "                    img_ = img[d.top():d.bottom(),d.left():d.right()]\n",
    "                    distance.append(str(d.right() - d.left())) #此人臉的寬度\n",
    "                    distance.append(str(d.bottom() - d.top()))\n",
    "                    img2 = cv2.resize(img_, (125,125), interpolation=cv2.INTER_CUBIC) \n",
    "                    cv2.imwrite(\"D:/program/python/Dlib/photo_100/face_predict/face_cut/face_cut\"+str(people_face)+\".jpg\", img2)\n",
    "                    img_face = cv2.imread(\"D:/program/python/Dlib/photo_100/face_predict/face_cut/face_cut\"+str(people_face)+\".jpg\")\n",
    "                    shape = self.predictor(im_rd, d)\n",
    "\n",
    "                    for point in range(68):\n",
    "                        #cv2.circle(im_rd, (shape.part(point).x, shape.part(point).y), 2, (0, 255, 0), -1, 8)\n",
    "                        distance.append(str(shape.part(point).y -d.top() ))\n",
    "                        distance.append(str(shape.part(point).x -d.left()))\n",
    "                    #return distance\n",
    "                    D=[]\n",
    "                    D.append(distance)\n",
    "                    D.append(distance)\n",
    "                    dis_ans=distance_model.predict(D)\n",
    "                    test2=str(dis_ans[0])\n",
    "\n",
    "                    train=[]\n",
    "                    for i in range(2):#多一個當標題\n",
    "                        train.append([])                                        \n",
    "                    train[0]=img_face\n",
    "                    train[1]=img_face\n",
    "                    X_train=np.array(train)\n",
    "                    x_Train4D=X_train.reshape(X_train.shape[0],125,125,3).astype('float32')\n",
    "                    x_Train4D=np.delete(x_Train4D, [1,2], axis=3)\n",
    "                    x_Test4D_normalize=x_Train4D/ 255\n",
    "                    ans=model.predict_classes(x_Test4D_normalize)\n",
    "                    text=str(ans[0])\n",
    "\n",
    "                    if(text=='0'):\n",
    "                        text='phchen'\n",
    "                    if(text=='1'):\n",
    "                        text='jeff'\n",
    "                    if(text=='2'):\n",
    "                        text='barry'\n",
    "\n",
    "                    im_rd = cv2.putText(im_rd, text+' '+test2, (d.left(), d.top()), font, 0.8, (0, 0, 255), 1, cv2.LINE_AA)\n",
    "                    people_face+=1\n",
    "                    \n",
    "                    if(text=='jeff' and dis_ans[0]<=35):\n",
    "                        return 1   \n",
    "            else:\n",
    "\n",
    "                cv2.putText(im_rd, \"No Face\", (20, 50), font, 1, (0, 0, 255), 1, cv2.LINE_AA)\n",
    "            #im_rd = cv2.putText(im_rd, \"S: screenshot\", (20, 400), font, 0.8, (0, 0, 255), 1, cv2.LINE_AA)\n",
    "            #im_rd = cv2.putText(im_rd, \"Q: quit\", (20, 450), font, 0.8, (0, 0, 255), 1, cv2.LINE_AA)     \n",
    "            cv2.imshow(\"camera\", im_rd)  \n",
    "\n",
    "        self.cap.release()\n",
    "        cv2.destroyAllWindows()\n",
    "\n",
    "def mood(text):\n",
    "\n",
    "    Text1=input(text)\n",
    "    print(Text1,end='')\n",
    "\n",
    "    #print(\"\\n predict ......\")\n",
    "    model= load_model('D:/program/python/Dlib/photo_100/data_analysis/model/word_mood_LSTM_NLTK.h5')\n",
    "\n",
    "    ## 探索數據分析(EDA)\n",
    "    # 計算訓練資料的字句最大字數\n",
    "    maxlen = 0\n",
    "    word_freqs = collections.Counter()\n",
    "    num_recs = 0\n",
    "    with open('./Sentiment1_training.txt','r+', encoding='UTF-8') as f:\n",
    "        for line in f:\n",
    "            label, sentence = line.strip().split(\"\\t\")\n",
    "            words = nltk.word_tokenize(sentence.lower())\n",
    "            if len(words) > maxlen:\n",
    "                maxlen = len(words)\n",
    "            for word in words:\n",
    "                word_freqs[word] += 1\n",
    "            num_recs += 1\n",
    "\n",
    "    ## 準備數據\n",
    "    MAX_FEATURES = 2000\n",
    "    MAX_SENTENCE_LENGTH = 40\n",
    "    vocab_size = min(MAX_FEATURES, len(word_freqs)) + 2\n",
    "    word_index = {x[0]: i+2 for i, x in enumerate(word_freqs.most_common(MAX_FEATURES))}\n",
    "    word_index[\"PAD\"] = 0\n",
    "    word_index[\"UNK\"] = 1\n",
    "    index2word = {v:k for k, v in word_index.items()}\n",
    "    X = np.empty(num_recs,dtype=list)\n",
    "    y = np.zeros(num_recs)\n",
    "    i=0\n",
    "    # 讀取訓練資料，將每一單字以 dictionary 儲存\n",
    "    with open('./Sentiment1_training.txt','r+', encoding='UTF-8') as f:\n",
    "        for line in f:\n",
    "            label, sentence = line.strip().split(\"\\t\")\n",
    "            words = nltk.word_tokenize(sentence.lower())\n",
    "            seqs = []\n",
    "            for word in words:\n",
    "                if word in word_index:\n",
    "                    seqs.append(word_index[word])\n",
    "                else:\n",
    "                    seqs.append(word_index[\"UNK\"])\n",
    "            X[i] = seqs\n",
    "            y[i] = int(label)\n",
    "            i += 1\n",
    "\n",
    "    # 字句長度不足補空白        \n",
    "    X = sequence.pad_sequences(X, maxlen=MAX_SENTENCE_LENGTH)\n",
    "\n",
    "\n",
    "    INPUT_SENTENCES = [Text1]# ,Text2,Text3\n",
    "    XX = np.empty(len(INPUT_SENTENCES),dtype=list)\n",
    "    # 轉換文字為數值\n",
    "    i=0\n",
    "    for sentence in  INPUT_SENTENCES:\n",
    "        words = nltk.word_tokenize(sentence.lower())\n",
    "        seq = []\n",
    "        for word in words:\n",
    "            if word in word_index:\n",
    "                seq.append(word_index[word])\n",
    "            else:\n",
    "                seq.append(word_index['UNK'])\n",
    "        XX[i] = seq\n",
    "        i+=1\n",
    "\n",
    "    XX = sequence.pad_sequences(XX, maxlen=MAX_SENTENCE_LENGTH)\n",
    "    # 預測，並將結果四捨五入，轉換為 0 或 1\n",
    "    labels = [int(round(x[0])) for x in model.predict(XX) ]\n",
    "    label2word = {1:'正面', 0:'負面'}\n",
    "    # 顯示結果\n",
    "\n",
    "    #print(\"\\n以下分析剛剛對話情緒:\")\n",
    "\n",
    "    for i in range(len(INPUT_SENTENCES)):\n",
    "        print('  '+label2word[labels[i]]) #, INPUT_SENTENCES[i]\n",
    "        \n",
    " \n",
    "if __name__ == \"__main__\":\n",
    "    model= load_model('D:/program/python/Dlib/photo_100/data_analysis/model/data_analysis_face_recognize.h5')\n",
    "    with open('D:/program/python/Dlib/photo_100/data_analysis/model/distance.pickle', 'rb') as f:\n",
    "        distance_model = pickle.load(f)\n",
    "    my_face = face_emotion()\n",
    "    end = my_face.learning_face()\n",
    "    cv2.VideoCapture(0).release()\n",
    "    cv2.destroyAllWindows()\n",
    "    mood(\"how are you today\")\n",
    "    mood(\"how is your dinner today\")\n",
    "    mood(\"how is the movie\")"
   ]
  },
  {
   "cell_type": "code",
   "execution_count": null,
   "metadata": {},
   "outputs": [],
   "source": []
  }
 ],
 "metadata": {
  "kernelspec": {
   "display_name": "vision",
   "language": "python",
   "name": "vision"
  },
  "language_info": {
   "codemirror_mode": {
    "name": "ipython",
    "version": 3
   },
   "file_extension": ".py",
   "mimetype": "text/x-python",
   "name": "python",
   "nbconvert_exporter": "python",
   "pygments_lexer": "ipython3",
   "version": "3.7.3"
  }
 },
 "nbformat": 4,
 "nbformat_minor": 2
}
